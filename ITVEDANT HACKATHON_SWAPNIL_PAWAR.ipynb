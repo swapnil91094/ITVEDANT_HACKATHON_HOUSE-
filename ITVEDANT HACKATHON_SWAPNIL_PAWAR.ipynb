{
 "cells": [
  {
   "cell_type": "code",
   "execution_count": 1,
   "metadata": {},
   "outputs": [],
   "source": [
    "import pandas as pd\n",
    "import numpy as np\n",
    "import matplotlib.pyplot as plt\n",
    "import seaborn as sns\n",
    "import warnings\n",
    "warnings.filterwarnings(\"ignore\")\n",
    "from sklearn.linear_model import LinearRegression"
   ]
  },
  {
   "cell_type": "code",
   "execution_count": 2,
   "metadata": {},
   "outputs": [
    {
     "data": {
      "text/plain": [
       "(6830, 16)"
      ]
     },
     "execution_count": 2,
     "metadata": {},
     "output_type": "execute_result"
    }
   ],
   "source": [
    "dataset=pd.read_csv('house.csv')\n",
    "#print shape of datset with rows and columns\n",
    "dataset.shape"
   ]
  },
  {
   "cell_type": "code",
   "execution_count": 3,
   "metadata": {},
   "outputs": [
    {
     "name": "stdout",
     "output_type": "stream",
     "text": [
      "<class 'pandas.core.frame.DataFrame'>\n",
      "RangeIndex: 6830 entries, 0 to 6829\n",
      "Data columns (total 16 columns):\n",
      " #   Column         Non-Null Count  Dtype  \n",
      "---  ------         --------------  -----  \n",
      " 0   Rooms          6830 non-null   int64  \n",
      " 1   Type           6830 non-null   int64  \n",
      " 2   Price          6830 non-null   int64  \n",
      " 3   Method         6830 non-null   int64  \n",
      " 4   SellerG        6830 non-null   int64  \n",
      " 5   Distance       6830 non-null   float64\n",
      " 6   Postcode       6830 non-null   int64  \n",
      " 7   Bathroom       6830 non-null   int64  \n",
      " 8   Car            6830 non-null   int64  \n",
      " 9   Landsize       6830 non-null   int64  \n",
      " 10  BuildingArea   6830 non-null   float64\n",
      " 11  YearBuilt      6830 non-null   int64  \n",
      " 12  CouncilArea    6830 non-null   int64  \n",
      " 13  Longtitude     6830 non-null   float64\n",
      " 14  Regionname     6830 non-null   int64  \n",
      " 15  Propertycount  6830 non-null   int64  \n",
      "dtypes: float64(3), int64(13)\n",
      "memory usage: 853.9 KB\n"
     ]
    }
   ],
   "source": [
    "dataset.info()"
   ]
  },
  {
   "cell_type": "code",
   "execution_count": 4,
   "metadata": {},
   "outputs": [
    {
     "data": {
      "text/plain": [
       "Rooms            0\n",
       "Type             0\n",
       "Price            0\n",
       "Method           0\n",
       "SellerG          0\n",
       "Distance         0\n",
       "Postcode         0\n",
       "Bathroom         0\n",
       "Car              0\n",
       "Landsize         0\n",
       "BuildingArea     0\n",
       "YearBuilt        0\n",
       "CouncilArea      0\n",
       "Longtitude       0\n",
       "Regionname       0\n",
       "Propertycount    0\n",
       "dtype: int64"
      ]
     },
     "execution_count": 4,
     "metadata": {},
     "output_type": "execute_result"
    }
   ],
   "source": [
    "dataset.isnull().sum()"
   ]
  },
  {
   "cell_type": "code",
   "execution_count": 5,
   "metadata": {},
   "outputs": [
    {
     "data": {
      "text/plain": [
       "Rooms            0.0\n",
       "Type             0.0\n",
       "Price            0.0\n",
       "Method           0.0\n",
       "SellerG          0.0\n",
       "Distance         0.0\n",
       "Postcode         0.0\n",
       "Bathroom         0.0\n",
       "Car              0.0\n",
       "Landsize         0.0\n",
       "BuildingArea     0.0\n",
       "YearBuilt        0.0\n",
       "CouncilArea      0.0\n",
       "Longtitude       0.0\n",
       "Regionname       0.0\n",
       "Propertycount    0.0\n",
       "dtype: float64"
      ]
     },
     "execution_count": 5,
     "metadata": {},
     "output_type": "execute_result"
    }
   ],
   "source": [
    "#calculate percentage of null values of each column \n",
    "null_var=dataset.isnull().sum()/dataset.shape[0]*100  \n",
    "# isnull.sum()/no. of records*100  here shape[0] : no. of rows\n",
    "null_var"
   ]
  },
  {
   "cell_type": "code",
   "execution_count": 6,
   "metadata": {},
   "outputs": [
    {
     "data": {
      "text/html": [
       "<div>\n",
       "<style scoped>\n",
       "    .dataframe tbody tr th:only-of-type {\n",
       "        vertical-align: middle;\n",
       "    }\n",
       "\n",
       "    .dataframe tbody tr th {\n",
       "        vertical-align: top;\n",
       "    }\n",
       "\n",
       "    .dataframe thead th {\n",
       "        text-align: right;\n",
       "    }\n",
       "</style>\n",
       "<table border=\"1\" class=\"dataframe\">\n",
       "  <thead>\n",
       "    <tr style=\"text-align: right;\">\n",
       "      <th></th>\n",
       "      <th>Rooms</th>\n",
       "      <th>Type</th>\n",
       "      <th>Price</th>\n",
       "      <th>Method</th>\n",
       "      <th>SellerG</th>\n",
       "      <th>Distance</th>\n",
       "      <th>Postcode</th>\n",
       "      <th>Bathroom</th>\n",
       "      <th>Car</th>\n",
       "      <th>Landsize</th>\n",
       "      <th>BuildingArea</th>\n",
       "      <th>YearBuilt</th>\n",
       "      <th>CouncilArea</th>\n",
       "      <th>Longtitude</th>\n",
       "      <th>Regionname</th>\n",
       "      <th>Propertycount</th>\n",
       "    </tr>\n",
       "  </thead>\n",
       "  <tbody>\n",
       "    <tr>\n",
       "      <th>0</th>\n",
       "      <td>2</td>\n",
       "      <td>0</td>\n",
       "      <td>1035000</td>\n",
       "      <td>1</td>\n",
       "      <td>23</td>\n",
       "      <td>2.5</td>\n",
       "      <td>3067</td>\n",
       "      <td>1</td>\n",
       "      <td>0</td>\n",
       "      <td>156</td>\n",
       "      <td>79.0</td>\n",
       "      <td>1900</td>\n",
       "      <td>31</td>\n",
       "      <td>144.9934</td>\n",
       "      <td>2</td>\n",
       "      <td>4019</td>\n",
       "    </tr>\n",
       "    <tr>\n",
       "      <th>1</th>\n",
       "      <td>3</td>\n",
       "      <td>0</td>\n",
       "      <td>1465000</td>\n",
       "      <td>3</td>\n",
       "      <td>23</td>\n",
       "      <td>2.5</td>\n",
       "      <td>3067</td>\n",
       "      <td>2</td>\n",
       "      <td>0</td>\n",
       "      <td>134</td>\n",
       "      <td>150.0</td>\n",
       "      <td>1900</td>\n",
       "      <td>31</td>\n",
       "      <td>144.9944</td>\n",
       "      <td>2</td>\n",
       "      <td>4019</td>\n",
       "    </tr>\n",
       "    <tr>\n",
       "      <th>2</th>\n",
       "      <td>4</td>\n",
       "      <td>0</td>\n",
       "      <td>1600000</td>\n",
       "      <td>4</td>\n",
       "      <td>155</td>\n",
       "      <td>2.5</td>\n",
       "      <td>3067</td>\n",
       "      <td>1</td>\n",
       "      <td>2</td>\n",
       "      <td>120</td>\n",
       "      <td>142.0</td>\n",
       "      <td>2014</td>\n",
       "      <td>31</td>\n",
       "      <td>144.9941</td>\n",
       "      <td>2</td>\n",
       "      <td>4019</td>\n",
       "    </tr>\n",
       "    <tr>\n",
       "      <th>3</th>\n",
       "      <td>3</td>\n",
       "      <td>0</td>\n",
       "      <td>1876000</td>\n",
       "      <td>1</td>\n",
       "      <td>155</td>\n",
       "      <td>2.5</td>\n",
       "      <td>3067</td>\n",
       "      <td>2</td>\n",
       "      <td>0</td>\n",
       "      <td>245</td>\n",
       "      <td>210.0</td>\n",
       "      <td>1910</td>\n",
       "      <td>31</td>\n",
       "      <td>144.9993</td>\n",
       "      <td>2</td>\n",
       "      <td>4019</td>\n",
       "    </tr>\n",
       "    <tr>\n",
       "      <th>4</th>\n",
       "      <td>2</td>\n",
       "      <td>0</td>\n",
       "      <td>1636000</td>\n",
       "      <td>1</td>\n",
       "      <td>155</td>\n",
       "      <td>2.5</td>\n",
       "      <td>3067</td>\n",
       "      <td>1</td>\n",
       "      <td>2</td>\n",
       "      <td>256</td>\n",
       "      <td>107.0</td>\n",
       "      <td>1890</td>\n",
       "      <td>31</td>\n",
       "      <td>144.9954</td>\n",
       "      <td>2</td>\n",
       "      <td>4019</td>\n",
       "    </tr>\n",
       "  </tbody>\n",
       "</table>\n",
       "</div>"
      ],
      "text/plain": [
       "   Rooms  Type    Price  Method  SellerG  Distance  Postcode  Bathroom  Car  \\\n",
       "0      2     0  1035000       1       23       2.5      3067         1    0   \n",
       "1      3     0  1465000       3       23       2.5      3067         2    0   \n",
       "2      4     0  1600000       4      155       2.5      3067         1    2   \n",
       "3      3     0  1876000       1      155       2.5      3067         2    0   \n",
       "4      2     0  1636000       1      155       2.5      3067         1    2   \n",
       "\n",
       "   Landsize  BuildingArea  YearBuilt  CouncilArea  Longtitude  Regionname  \\\n",
       "0       156          79.0       1900           31    144.9934           2   \n",
       "1       134         150.0       1900           31    144.9944           2   \n",
       "2       120         142.0       2014           31    144.9941           2   \n",
       "3       245         210.0       1910           31    144.9993           2   \n",
       "4       256         107.0       1890           31    144.9954           2   \n",
       "\n",
       "   Propertycount  \n",
       "0           4019  \n",
       "1           4019  \n",
       "2           4019  \n",
       "3           4019  \n",
       "4           4019  "
      ]
     },
     "execution_count": 6,
     "metadata": {},
     "output_type": "execute_result"
    }
   ],
   "source": [
    "dataset.head()"
   ]
  },
  {
   "cell_type": "code",
   "execution_count": 7,
   "metadata": {},
   "outputs": [],
   "source": [
    "dataset['Current Year']=2021\n",
    "dataset['no_year']=dataset['Current Year']- dataset['YearBuilt']"
   ]
  },
  {
   "cell_type": "code",
   "execution_count": 8,
   "metadata": {},
   "outputs": [
    {
     "data": {
      "text/html": [
       "<div>\n",
       "<style scoped>\n",
       "    .dataframe tbody tr th:only-of-type {\n",
       "        vertical-align: middle;\n",
       "    }\n",
       "\n",
       "    .dataframe tbody tr th {\n",
       "        vertical-align: top;\n",
       "    }\n",
       "\n",
       "    .dataframe thead th {\n",
       "        text-align: right;\n",
       "    }\n",
       "</style>\n",
       "<table border=\"1\" class=\"dataframe\">\n",
       "  <thead>\n",
       "    <tr style=\"text-align: right;\">\n",
       "      <th></th>\n",
       "      <th>Rooms</th>\n",
       "      <th>Type</th>\n",
       "      <th>Price</th>\n",
       "      <th>Method</th>\n",
       "      <th>SellerG</th>\n",
       "      <th>Distance</th>\n",
       "      <th>Postcode</th>\n",
       "      <th>Bathroom</th>\n",
       "      <th>Car</th>\n",
       "      <th>Landsize</th>\n",
       "      <th>BuildingArea</th>\n",
       "      <th>YearBuilt</th>\n",
       "      <th>CouncilArea</th>\n",
       "      <th>Longtitude</th>\n",
       "      <th>Regionname</th>\n",
       "      <th>Propertycount</th>\n",
       "      <th>Current Year</th>\n",
       "      <th>no_year</th>\n",
       "    </tr>\n",
       "  </thead>\n",
       "  <tbody>\n",
       "    <tr>\n",
       "      <th>0</th>\n",
       "      <td>2</td>\n",
       "      <td>0</td>\n",
       "      <td>1035000</td>\n",
       "      <td>1</td>\n",
       "      <td>23</td>\n",
       "      <td>2.5</td>\n",
       "      <td>3067</td>\n",
       "      <td>1</td>\n",
       "      <td>0</td>\n",
       "      <td>156</td>\n",
       "      <td>79.0</td>\n",
       "      <td>1900</td>\n",
       "      <td>31</td>\n",
       "      <td>144.9934</td>\n",
       "      <td>2</td>\n",
       "      <td>4019</td>\n",
       "      <td>2021</td>\n",
       "      <td>121</td>\n",
       "    </tr>\n",
       "    <tr>\n",
       "      <th>1</th>\n",
       "      <td>3</td>\n",
       "      <td>0</td>\n",
       "      <td>1465000</td>\n",
       "      <td>3</td>\n",
       "      <td>23</td>\n",
       "      <td>2.5</td>\n",
       "      <td>3067</td>\n",
       "      <td>2</td>\n",
       "      <td>0</td>\n",
       "      <td>134</td>\n",
       "      <td>150.0</td>\n",
       "      <td>1900</td>\n",
       "      <td>31</td>\n",
       "      <td>144.9944</td>\n",
       "      <td>2</td>\n",
       "      <td>4019</td>\n",
       "      <td>2021</td>\n",
       "      <td>121</td>\n",
       "    </tr>\n",
       "    <tr>\n",
       "      <th>2</th>\n",
       "      <td>4</td>\n",
       "      <td>0</td>\n",
       "      <td>1600000</td>\n",
       "      <td>4</td>\n",
       "      <td>155</td>\n",
       "      <td>2.5</td>\n",
       "      <td>3067</td>\n",
       "      <td>1</td>\n",
       "      <td>2</td>\n",
       "      <td>120</td>\n",
       "      <td>142.0</td>\n",
       "      <td>2014</td>\n",
       "      <td>31</td>\n",
       "      <td>144.9941</td>\n",
       "      <td>2</td>\n",
       "      <td>4019</td>\n",
       "      <td>2021</td>\n",
       "      <td>7</td>\n",
       "    </tr>\n",
       "    <tr>\n",
       "      <th>3</th>\n",
       "      <td>3</td>\n",
       "      <td>0</td>\n",
       "      <td>1876000</td>\n",
       "      <td>1</td>\n",
       "      <td>155</td>\n",
       "      <td>2.5</td>\n",
       "      <td>3067</td>\n",
       "      <td>2</td>\n",
       "      <td>0</td>\n",
       "      <td>245</td>\n",
       "      <td>210.0</td>\n",
       "      <td>1910</td>\n",
       "      <td>31</td>\n",
       "      <td>144.9993</td>\n",
       "      <td>2</td>\n",
       "      <td>4019</td>\n",
       "      <td>2021</td>\n",
       "      <td>111</td>\n",
       "    </tr>\n",
       "    <tr>\n",
       "      <th>4</th>\n",
       "      <td>2</td>\n",
       "      <td>0</td>\n",
       "      <td>1636000</td>\n",
       "      <td>1</td>\n",
       "      <td>155</td>\n",
       "      <td>2.5</td>\n",
       "      <td>3067</td>\n",
       "      <td>1</td>\n",
       "      <td>2</td>\n",
       "      <td>256</td>\n",
       "      <td>107.0</td>\n",
       "      <td>1890</td>\n",
       "      <td>31</td>\n",
       "      <td>144.9954</td>\n",
       "      <td>2</td>\n",
       "      <td>4019</td>\n",
       "      <td>2021</td>\n",
       "      <td>131</td>\n",
       "    </tr>\n",
       "  </tbody>\n",
       "</table>\n",
       "</div>"
      ],
      "text/plain": [
       "   Rooms  Type    Price  Method  SellerG  Distance  Postcode  Bathroom  Car  \\\n",
       "0      2     0  1035000       1       23       2.5      3067         1    0   \n",
       "1      3     0  1465000       3       23       2.5      3067         2    0   \n",
       "2      4     0  1600000       4      155       2.5      3067         1    2   \n",
       "3      3     0  1876000       1      155       2.5      3067         2    0   \n",
       "4      2     0  1636000       1      155       2.5      3067         1    2   \n",
       "\n",
       "   Landsize  BuildingArea  YearBuilt  CouncilArea  Longtitude  Regionname  \\\n",
       "0       156          79.0       1900           31    144.9934           2   \n",
       "1       134         150.0       1900           31    144.9944           2   \n",
       "2       120         142.0       2014           31    144.9941           2   \n",
       "3       245         210.0       1910           31    144.9993           2   \n",
       "4       256         107.0       1890           31    144.9954           2   \n",
       "\n",
       "   Propertycount  Current Year  no_year  \n",
       "0           4019          2021      121  \n",
       "1           4019          2021      121  \n",
       "2           4019          2021        7  \n",
       "3           4019          2021      111  \n",
       "4           4019          2021      131  "
      ]
     },
     "execution_count": 8,
     "metadata": {},
     "output_type": "execute_result"
    }
   ],
   "source": [
    "dataset.head()"
   ]
  },
  {
   "cell_type": "code",
   "execution_count": 9,
   "metadata": {},
   "outputs": [],
   "source": [
    "dataset.drop(['YearBuilt'],axis=1,inplace=True)"
   ]
  },
  {
   "cell_type": "code",
   "execution_count": 12,
   "metadata": {},
   "outputs": [],
   "source": [
    "dataset.drop(['Current Year'],axis=1,inplace=True)"
   ]
  },
  {
   "cell_type": "code",
   "execution_count": 13,
   "metadata": {},
   "outputs": [
    {
     "data": {
      "text/html": [
       "<div>\n",
       "<style scoped>\n",
       "    .dataframe tbody tr th:only-of-type {\n",
       "        vertical-align: middle;\n",
       "    }\n",
       "\n",
       "    .dataframe tbody tr th {\n",
       "        vertical-align: top;\n",
       "    }\n",
       "\n",
       "    .dataframe thead th {\n",
       "        text-align: right;\n",
       "    }\n",
       "</style>\n",
       "<table border=\"1\" class=\"dataframe\">\n",
       "  <thead>\n",
       "    <tr style=\"text-align: right;\">\n",
       "      <th></th>\n",
       "      <th>Rooms</th>\n",
       "      <th>Type</th>\n",
       "      <th>Price</th>\n",
       "      <th>Method</th>\n",
       "      <th>SellerG</th>\n",
       "      <th>Distance</th>\n",
       "      <th>Postcode</th>\n",
       "      <th>Bathroom</th>\n",
       "      <th>Car</th>\n",
       "      <th>Landsize</th>\n",
       "      <th>BuildingArea</th>\n",
       "      <th>CouncilArea</th>\n",
       "      <th>Longtitude</th>\n",
       "      <th>Regionname</th>\n",
       "      <th>Propertycount</th>\n",
       "      <th>no_year</th>\n",
       "    </tr>\n",
       "  </thead>\n",
       "  <tbody>\n",
       "    <tr>\n",
       "      <th>0</th>\n",
       "      <td>2</td>\n",
       "      <td>0</td>\n",
       "      <td>1035000</td>\n",
       "      <td>1</td>\n",
       "      <td>23</td>\n",
       "      <td>2.5</td>\n",
       "      <td>3067</td>\n",
       "      <td>1</td>\n",
       "      <td>0</td>\n",
       "      <td>156</td>\n",
       "      <td>79.0</td>\n",
       "      <td>31</td>\n",
       "      <td>144.9934</td>\n",
       "      <td>2</td>\n",
       "      <td>4019</td>\n",
       "      <td>121</td>\n",
       "    </tr>\n",
       "    <tr>\n",
       "      <th>1</th>\n",
       "      <td>3</td>\n",
       "      <td>0</td>\n",
       "      <td>1465000</td>\n",
       "      <td>3</td>\n",
       "      <td>23</td>\n",
       "      <td>2.5</td>\n",
       "      <td>3067</td>\n",
       "      <td>2</td>\n",
       "      <td>0</td>\n",
       "      <td>134</td>\n",
       "      <td>150.0</td>\n",
       "      <td>31</td>\n",
       "      <td>144.9944</td>\n",
       "      <td>2</td>\n",
       "      <td>4019</td>\n",
       "      <td>121</td>\n",
       "    </tr>\n",
       "    <tr>\n",
       "      <th>2</th>\n",
       "      <td>4</td>\n",
       "      <td>0</td>\n",
       "      <td>1600000</td>\n",
       "      <td>4</td>\n",
       "      <td>155</td>\n",
       "      <td>2.5</td>\n",
       "      <td>3067</td>\n",
       "      <td>1</td>\n",
       "      <td>2</td>\n",
       "      <td>120</td>\n",
       "      <td>142.0</td>\n",
       "      <td>31</td>\n",
       "      <td>144.9941</td>\n",
       "      <td>2</td>\n",
       "      <td>4019</td>\n",
       "      <td>7</td>\n",
       "    </tr>\n",
       "    <tr>\n",
       "      <th>3</th>\n",
       "      <td>3</td>\n",
       "      <td>0</td>\n",
       "      <td>1876000</td>\n",
       "      <td>1</td>\n",
       "      <td>155</td>\n",
       "      <td>2.5</td>\n",
       "      <td>3067</td>\n",
       "      <td>2</td>\n",
       "      <td>0</td>\n",
       "      <td>245</td>\n",
       "      <td>210.0</td>\n",
       "      <td>31</td>\n",
       "      <td>144.9993</td>\n",
       "      <td>2</td>\n",
       "      <td>4019</td>\n",
       "      <td>111</td>\n",
       "    </tr>\n",
       "    <tr>\n",
       "      <th>4</th>\n",
       "      <td>2</td>\n",
       "      <td>0</td>\n",
       "      <td>1636000</td>\n",
       "      <td>1</td>\n",
       "      <td>155</td>\n",
       "      <td>2.5</td>\n",
       "      <td>3067</td>\n",
       "      <td>1</td>\n",
       "      <td>2</td>\n",
       "      <td>256</td>\n",
       "      <td>107.0</td>\n",
       "      <td>31</td>\n",
       "      <td>144.9954</td>\n",
       "      <td>2</td>\n",
       "      <td>4019</td>\n",
       "      <td>131</td>\n",
       "    </tr>\n",
       "  </tbody>\n",
       "</table>\n",
       "</div>"
      ],
      "text/plain": [
       "   Rooms  Type    Price  Method  SellerG  Distance  Postcode  Bathroom  Car  \\\n",
       "0      2     0  1035000       1       23       2.5      3067         1    0   \n",
       "1      3     0  1465000       3       23       2.5      3067         2    0   \n",
       "2      4     0  1600000       4      155       2.5      3067         1    2   \n",
       "3      3     0  1876000       1      155       2.5      3067         2    0   \n",
       "4      2     0  1636000       1      155       2.5      3067         1    2   \n",
       "\n",
       "   Landsize  BuildingArea  CouncilArea  Longtitude  Regionname  Propertycount  \\\n",
       "0       156          79.0           31    144.9934           2           4019   \n",
       "1       134         150.0           31    144.9944           2           4019   \n",
       "2       120         142.0           31    144.9941           2           4019   \n",
       "3       245         210.0           31    144.9993           2           4019   \n",
       "4       256         107.0           31    144.9954           2           4019   \n",
       "\n",
       "   no_year  \n",
       "0      121  \n",
       "1      121  \n",
       "2        7  \n",
       "3      111  \n",
       "4      131  "
      ]
     },
     "execution_count": 13,
     "metadata": {},
     "output_type": "execute_result"
    }
   ],
   "source": [
    "dataset.head()"
   ]
  },
  {
   "cell_type": "markdown",
   "metadata": {},
   "source": [
    "# Feature Engineering"
   ]
  },
  {
   "cell_type": "code",
   "execution_count": 14,
   "metadata": {},
   "outputs": [],
   "source": [
    "# Identify historic homes\n",
    "dataset['Historic'] = np.where(dataset['no_year']>=50,'Historic','Contemporary')\n",
    "\n",
    "# Convert to Category\n",
    "dataset['Historic'] = dataset['Historic'].astype('category')"
   ]
  },
  {
   "cell_type": "code",
   "execution_count": 15,
   "metadata": {},
   "outputs": [
    {
     "data": {
      "text/html": [
       "<div>\n",
       "<style scoped>\n",
       "    .dataframe tbody tr th:only-of-type {\n",
       "        vertical-align: middle;\n",
       "    }\n",
       "\n",
       "    .dataframe tbody tr th {\n",
       "        vertical-align: top;\n",
       "    }\n",
       "\n",
       "    .dataframe thead th {\n",
       "        text-align: right;\n",
       "    }\n",
       "</style>\n",
       "<table border=\"1\" class=\"dataframe\">\n",
       "  <thead>\n",
       "    <tr style=\"text-align: right;\">\n",
       "      <th></th>\n",
       "      <th>Rooms</th>\n",
       "      <th>Type</th>\n",
       "      <th>Price</th>\n",
       "      <th>Method</th>\n",
       "      <th>SellerG</th>\n",
       "      <th>Distance</th>\n",
       "      <th>Postcode</th>\n",
       "      <th>Bathroom</th>\n",
       "      <th>Car</th>\n",
       "      <th>Landsize</th>\n",
       "      <th>BuildingArea</th>\n",
       "      <th>CouncilArea</th>\n",
       "      <th>Longtitude</th>\n",
       "      <th>Regionname</th>\n",
       "      <th>Propertycount</th>\n",
       "      <th>no_year</th>\n",
       "      <th>Historic</th>\n",
       "    </tr>\n",
       "  </thead>\n",
       "  <tbody>\n",
       "    <tr>\n",
       "      <th>0</th>\n",
       "      <td>2</td>\n",
       "      <td>0</td>\n",
       "      <td>1035000</td>\n",
       "      <td>1</td>\n",
       "      <td>23</td>\n",
       "      <td>2.5</td>\n",
       "      <td>3067</td>\n",
       "      <td>1</td>\n",
       "      <td>0</td>\n",
       "      <td>156</td>\n",
       "      <td>79.0</td>\n",
       "      <td>31</td>\n",
       "      <td>144.9934</td>\n",
       "      <td>2</td>\n",
       "      <td>4019</td>\n",
       "      <td>121</td>\n",
       "      <td>Historic</td>\n",
       "    </tr>\n",
       "    <tr>\n",
       "      <th>1</th>\n",
       "      <td>3</td>\n",
       "      <td>0</td>\n",
       "      <td>1465000</td>\n",
       "      <td>3</td>\n",
       "      <td>23</td>\n",
       "      <td>2.5</td>\n",
       "      <td>3067</td>\n",
       "      <td>2</td>\n",
       "      <td>0</td>\n",
       "      <td>134</td>\n",
       "      <td>150.0</td>\n",
       "      <td>31</td>\n",
       "      <td>144.9944</td>\n",
       "      <td>2</td>\n",
       "      <td>4019</td>\n",
       "      <td>121</td>\n",
       "      <td>Historic</td>\n",
       "    </tr>\n",
       "    <tr>\n",
       "      <th>2</th>\n",
       "      <td>4</td>\n",
       "      <td>0</td>\n",
       "      <td>1600000</td>\n",
       "      <td>4</td>\n",
       "      <td>155</td>\n",
       "      <td>2.5</td>\n",
       "      <td>3067</td>\n",
       "      <td>1</td>\n",
       "      <td>2</td>\n",
       "      <td>120</td>\n",
       "      <td>142.0</td>\n",
       "      <td>31</td>\n",
       "      <td>144.9941</td>\n",
       "      <td>2</td>\n",
       "      <td>4019</td>\n",
       "      <td>7</td>\n",
       "      <td>Contemporary</td>\n",
       "    </tr>\n",
       "    <tr>\n",
       "      <th>3</th>\n",
       "      <td>3</td>\n",
       "      <td>0</td>\n",
       "      <td>1876000</td>\n",
       "      <td>1</td>\n",
       "      <td>155</td>\n",
       "      <td>2.5</td>\n",
       "      <td>3067</td>\n",
       "      <td>2</td>\n",
       "      <td>0</td>\n",
       "      <td>245</td>\n",
       "      <td>210.0</td>\n",
       "      <td>31</td>\n",
       "      <td>144.9993</td>\n",
       "      <td>2</td>\n",
       "      <td>4019</td>\n",
       "      <td>111</td>\n",
       "      <td>Historic</td>\n",
       "    </tr>\n",
       "    <tr>\n",
       "      <th>4</th>\n",
       "      <td>2</td>\n",
       "      <td>0</td>\n",
       "      <td>1636000</td>\n",
       "      <td>1</td>\n",
       "      <td>155</td>\n",
       "      <td>2.5</td>\n",
       "      <td>3067</td>\n",
       "      <td>1</td>\n",
       "      <td>2</td>\n",
       "      <td>256</td>\n",
       "      <td>107.0</td>\n",
       "      <td>31</td>\n",
       "      <td>144.9954</td>\n",
       "      <td>2</td>\n",
       "      <td>4019</td>\n",
       "      <td>131</td>\n",
       "      <td>Historic</td>\n",
       "    </tr>\n",
       "  </tbody>\n",
       "</table>\n",
       "</div>"
      ],
      "text/plain": [
       "   Rooms  Type    Price  Method  SellerG  Distance  Postcode  Bathroom  Car  \\\n",
       "0      2     0  1035000       1       23       2.5      3067         1    0   \n",
       "1      3     0  1465000       3       23       2.5      3067         2    0   \n",
       "2      4     0  1600000       4      155       2.5      3067         1    2   \n",
       "3      3     0  1876000       1      155       2.5      3067         2    0   \n",
       "4      2     0  1636000       1      155       2.5      3067         1    2   \n",
       "\n",
       "   Landsize  BuildingArea  CouncilArea  Longtitude  Regionname  Propertycount  \\\n",
       "0       156          79.0           31    144.9934           2           4019   \n",
       "1       134         150.0           31    144.9944           2           4019   \n",
       "2       120         142.0           31    144.9941           2           4019   \n",
       "3       245         210.0           31    144.9993           2           4019   \n",
       "4       256         107.0           31    144.9954           2           4019   \n",
       "\n",
       "   no_year      Historic  \n",
       "0      121      Historic  \n",
       "1      121      Historic  \n",
       "2        7  Contemporary  \n",
       "3      111      Historic  \n",
       "4      131      Historic  "
      ]
     },
     "execution_count": 15,
     "metadata": {},
     "output_type": "execute_result"
    }
   ],
   "source": [
    "dataset.head()"
   ]
  },
  {
   "cell_type": "markdown",
   "metadata": {},
   "source": [
    "# OUTLIERS"
   ]
  },
  {
   "cell_type": "code",
   "execution_count": 16,
   "metadata": {},
   "outputs": [
    {
     "data": {
      "text/html": [
       "<div>\n",
       "<style scoped>\n",
       "    .dataframe tbody tr th:only-of-type {\n",
       "        vertical-align: middle;\n",
       "    }\n",
       "\n",
       "    .dataframe tbody tr th {\n",
       "        vertical-align: top;\n",
       "    }\n",
       "\n",
       "    .dataframe thead th {\n",
       "        text-align: right;\n",
       "    }\n",
       "</style>\n",
       "<table border=\"1\" class=\"dataframe\">\n",
       "  <thead>\n",
       "    <tr style=\"text-align: right;\">\n",
       "      <th></th>\n",
       "      <th>count</th>\n",
       "      <th>mean</th>\n",
       "      <th>std</th>\n",
       "      <th>min</th>\n",
       "      <th>25%</th>\n",
       "      <th>50%</th>\n",
       "      <th>75%</th>\n",
       "      <th>max</th>\n",
       "    </tr>\n",
       "  </thead>\n",
       "  <tbody>\n",
       "    <tr>\n",
       "      <th>Rooms</th>\n",
       "      <td>6830.0</td>\n",
       "      <td>2.978184e+00</td>\n",
       "      <td>0.970479</td>\n",
       "      <td>1.00000</td>\n",
       "      <td>2.000000</td>\n",
       "      <td>3.000</td>\n",
       "      <td>4.000000e+00</td>\n",
       "      <td>8.000000e+00</td>\n",
       "    </tr>\n",
       "    <tr>\n",
       "      <th>Type</th>\n",
       "      <td>6830.0</td>\n",
       "      <td>5.414348e-01</td>\n",
       "      <td>0.834160</td>\n",
       "      <td>0.00000</td>\n",
       "      <td>0.000000</td>\n",
       "      <td>0.000</td>\n",
       "      <td>1.000000e+00</td>\n",
       "      <td>2.000000e+00</td>\n",
       "    </tr>\n",
       "    <tr>\n",
       "      <th>Price</th>\n",
       "      <td>6830.0</td>\n",
       "      <td>1.077604e+06</td>\n",
       "      <td>673320.249263</td>\n",
       "      <td>131000.00000</td>\n",
       "      <td>630000.000000</td>\n",
       "      <td>890000.000</td>\n",
       "      <td>1.334000e+06</td>\n",
       "      <td>9.000000e+06</td>\n",
       "    </tr>\n",
       "    <tr>\n",
       "      <th>Method</th>\n",
       "      <td>6830.0</td>\n",
       "      <td>1.438360e+00</td>\n",
       "      <td>1.142603</td>\n",
       "      <td>0.00000</td>\n",
       "      <td>1.000000</td>\n",
       "      <td>1.000</td>\n",
       "      <td>1.000000e+00</td>\n",
       "      <td>4.000000e+00</td>\n",
       "    </tr>\n",
       "    <tr>\n",
       "      <th>SellerG</th>\n",
       "      <td>6830.0</td>\n",
       "      <td>1.316322e+02</td>\n",
       "      <td>77.124693</td>\n",
       "      <td>0.00000</td>\n",
       "      <td>73.000000</td>\n",
       "      <td>135.000</td>\n",
       "      <td>1.940000e+02</td>\n",
       "      <td>2.670000e+02</td>\n",
       "    </tr>\n",
       "    <tr>\n",
       "      <th>Distance</th>\n",
       "      <td>6830.0</td>\n",
       "      <td>1.014896e+01</td>\n",
       "      <td>5.991423</td>\n",
       "      <td>0.00000</td>\n",
       "      <td>6.100000</td>\n",
       "      <td>9.200</td>\n",
       "      <td>1.300000e+01</td>\n",
       "      <td>4.740000e+01</td>\n",
       "    </tr>\n",
       "    <tr>\n",
       "      <th>Postcode</th>\n",
       "      <td>6830.0</td>\n",
       "      <td>3.104262e+03</td>\n",
       "      <td>91.208614</td>\n",
       "      <td>3000.00000</td>\n",
       "      <td>3044.000000</td>\n",
       "      <td>3083.000</td>\n",
       "      <td>3.147000e+03</td>\n",
       "      <td>3.977000e+03</td>\n",
       "    </tr>\n",
       "    <tr>\n",
       "      <th>Bathroom</th>\n",
       "      <td>6830.0</td>\n",
       "      <td>1.594143e+00</td>\n",
       "      <td>0.714366</td>\n",
       "      <td>1.00000</td>\n",
       "      <td>1.000000</td>\n",
       "      <td>1.000</td>\n",
       "      <td>2.000000e+00</td>\n",
       "      <td>8.000000e+00</td>\n",
       "    </tr>\n",
       "    <tr>\n",
       "      <th>Car</th>\n",
       "      <td>6830.0</td>\n",
       "      <td>1.606881e+00</td>\n",
       "      <td>0.944613</td>\n",
       "      <td>0.00000</td>\n",
       "      <td>1.000000</td>\n",
       "      <td>2.000</td>\n",
       "      <td>2.000000e+00</td>\n",
       "      <td>1.000000e+01</td>\n",
       "    </tr>\n",
       "    <tr>\n",
       "      <th>Landsize</th>\n",
       "      <td>6830.0</td>\n",
       "      <td>4.874955e+02</td>\n",
       "      <td>910.805627</td>\n",
       "      <td>0.00000</td>\n",
       "      <td>167.000000</td>\n",
       "      <td>404.000</td>\n",
       "      <td>6.410000e+02</td>\n",
       "      <td>3.700000e+04</td>\n",
       "    </tr>\n",
       "    <tr>\n",
       "      <th>BuildingArea</th>\n",
       "      <td>6830.0</td>\n",
       "      <td>1.434466e+02</td>\n",
       "      <td>89.970692</td>\n",
       "      <td>0.00000</td>\n",
       "      <td>93.000000</td>\n",
       "      <td>126.000</td>\n",
       "      <td>1.730000e+02</td>\n",
       "      <td>3.112000e+03</td>\n",
       "    </tr>\n",
       "    <tr>\n",
       "      <th>CouncilArea</th>\n",
       "      <td>6830.0</td>\n",
       "      <td>1.360307e+01</td>\n",
       "      <td>10.370476</td>\n",
       "      <td>-1.00000</td>\n",
       "      <td>2.000000</td>\n",
       "      <td>15.000</td>\n",
       "      <td>2.300000e+01</td>\n",
       "      <td>3.200000e+01</td>\n",
       "    </tr>\n",
       "    <tr>\n",
       "      <th>Longtitude</th>\n",
       "      <td>6830.0</td>\n",
       "      <td>1.449919e+02</td>\n",
       "      <td>0.104983</td>\n",
       "      <td>144.54237</td>\n",
       "      <td>144.925522</td>\n",
       "      <td>144.997</td>\n",
       "      <td>1.450561e+02</td>\n",
       "      <td>1.455264e+02</td>\n",
       "    </tr>\n",
       "    <tr>\n",
       "      <th>Regionname</th>\n",
       "      <td>6830.0</td>\n",
       "      <td>3.792679e+00</td>\n",
       "      <td>2.011551</td>\n",
       "      <td>0.00000</td>\n",
       "      <td>2.000000</td>\n",
       "      <td>5.000</td>\n",
       "      <td>5.000000e+00</td>\n",
       "      <td>7.000000e+00</td>\n",
       "    </tr>\n",
       "    <tr>\n",
       "      <th>Propertycount</th>\n",
       "      <td>6830.0</td>\n",
       "      <td>7.433781e+03</td>\n",
       "      <td>4352.096045</td>\n",
       "      <td>389.00000</td>\n",
       "      <td>4381.250000</td>\n",
       "      <td>6567.000</td>\n",
       "      <td>1.017500e+04</td>\n",
       "      <td>2.165000e+04</td>\n",
       "    </tr>\n",
       "    <tr>\n",
       "      <th>no_year</th>\n",
       "      <td>6830.0</td>\n",
       "      <td>5.655593e+01</td>\n",
       "      <td>37.706332</td>\n",
       "      <td>3.00000</td>\n",
       "      <td>21.000000</td>\n",
       "      <td>51.000</td>\n",
       "      <td>8.100000e+01</td>\n",
       "      <td>8.250000e+02</td>\n",
       "    </tr>\n",
       "  </tbody>\n",
       "</table>\n",
       "</div>"
      ],
      "text/plain": [
       "                count          mean            std           min  \\\n",
       "Rooms          6830.0  2.978184e+00       0.970479       1.00000   \n",
       "Type           6830.0  5.414348e-01       0.834160       0.00000   \n",
       "Price          6830.0  1.077604e+06  673320.249263  131000.00000   \n",
       "Method         6830.0  1.438360e+00       1.142603       0.00000   \n",
       "SellerG        6830.0  1.316322e+02      77.124693       0.00000   \n",
       "Distance       6830.0  1.014896e+01       5.991423       0.00000   \n",
       "Postcode       6830.0  3.104262e+03      91.208614    3000.00000   \n",
       "Bathroom       6830.0  1.594143e+00       0.714366       1.00000   \n",
       "Car            6830.0  1.606881e+00       0.944613       0.00000   \n",
       "Landsize       6830.0  4.874955e+02     910.805627       0.00000   \n",
       "BuildingArea   6830.0  1.434466e+02      89.970692       0.00000   \n",
       "CouncilArea    6830.0  1.360307e+01      10.370476      -1.00000   \n",
       "Longtitude     6830.0  1.449919e+02       0.104983     144.54237   \n",
       "Regionname     6830.0  3.792679e+00       2.011551       0.00000   \n",
       "Propertycount  6830.0  7.433781e+03    4352.096045     389.00000   \n",
       "no_year        6830.0  5.655593e+01      37.706332       3.00000   \n",
       "\n",
       "                         25%         50%           75%           max  \n",
       "Rooms               2.000000       3.000  4.000000e+00  8.000000e+00  \n",
       "Type                0.000000       0.000  1.000000e+00  2.000000e+00  \n",
       "Price          630000.000000  890000.000  1.334000e+06  9.000000e+06  \n",
       "Method              1.000000       1.000  1.000000e+00  4.000000e+00  \n",
       "SellerG            73.000000     135.000  1.940000e+02  2.670000e+02  \n",
       "Distance            6.100000       9.200  1.300000e+01  4.740000e+01  \n",
       "Postcode         3044.000000    3083.000  3.147000e+03  3.977000e+03  \n",
       "Bathroom            1.000000       1.000  2.000000e+00  8.000000e+00  \n",
       "Car                 1.000000       2.000  2.000000e+00  1.000000e+01  \n",
       "Landsize          167.000000     404.000  6.410000e+02  3.700000e+04  \n",
       "BuildingArea       93.000000     126.000  1.730000e+02  3.112000e+03  \n",
       "CouncilArea         2.000000      15.000  2.300000e+01  3.200000e+01  \n",
       "Longtitude        144.925522     144.997  1.450561e+02  1.455264e+02  \n",
       "Regionname          2.000000       5.000  5.000000e+00  7.000000e+00  \n",
       "Propertycount    4381.250000    6567.000  1.017500e+04  2.165000e+04  \n",
       "no_year            21.000000      51.000  8.100000e+01  8.250000e+02  "
      ]
     },
     "execution_count": 16,
     "metadata": {},
     "output_type": "execute_result"
    }
   ],
   "source": [
    "dataset.describe().transpose()"
   ]
  },
  {
   "cell_type": "code",
   "execution_count": 17,
   "metadata": {},
   "outputs": [
    {
     "data": {
      "text/html": [
       "<div>\n",
       "<style scoped>\n",
       "    .dataframe tbody tr th:only-of-type {\n",
       "        vertical-align: middle;\n",
       "    }\n",
       "\n",
       "    .dataframe tbody tr th {\n",
       "        vertical-align: top;\n",
       "    }\n",
       "\n",
       "    .dataframe thead th {\n",
       "        text-align: right;\n",
       "    }\n",
       "</style>\n",
       "<table border=\"1\" class=\"dataframe\">\n",
       "  <thead>\n",
       "    <tr style=\"text-align: right;\">\n",
       "      <th></th>\n",
       "      <th>Rooms</th>\n",
       "      <th>Type</th>\n",
       "      <th>Price</th>\n",
       "      <th>Method</th>\n",
       "      <th>SellerG</th>\n",
       "      <th>Distance</th>\n",
       "      <th>Postcode</th>\n",
       "      <th>Bathroom</th>\n",
       "      <th>Car</th>\n",
       "      <th>Landsize</th>\n",
       "      <th>BuildingArea</th>\n",
       "      <th>CouncilArea</th>\n",
       "      <th>Longtitude</th>\n",
       "      <th>Regionname</th>\n",
       "      <th>Propertycount</th>\n",
       "      <th>no_year</th>\n",
       "      <th>Historic</th>\n",
       "    </tr>\n",
       "  </thead>\n",
       "  <tbody>\n",
       "    <tr>\n",
       "      <th>5114</th>\n",
       "      <td>3</td>\n",
       "      <td>0</td>\n",
       "      <td>1200000</td>\n",
       "      <td>4</td>\n",
       "      <td>140</td>\n",
       "      <td>14.2</td>\n",
       "      <td>3149</td>\n",
       "      <td>1</td>\n",
       "      <td>4</td>\n",
       "      <td>807</td>\n",
       "      <td>117.0</td>\n",
       "      <td>20</td>\n",
       "      <td>145.12121</td>\n",
       "      <td>0</td>\n",
       "      <td>13366</td>\n",
       "      <td>825</td>\n",
       "      <td>Historic</td>\n",
       "    </tr>\n",
       "  </tbody>\n",
       "</table>\n",
       "</div>"
      ],
      "text/plain": [
       "      Rooms  Type    Price  Method  SellerG  Distance  Postcode  Bathroom  \\\n",
       "5114      3     0  1200000       4      140      14.2      3149         1   \n",
       "\n",
       "      Car  Landsize  BuildingArea  CouncilArea  Longtitude  Regionname  \\\n",
       "5114    4       807         117.0           20   145.12121           0   \n",
       "\n",
       "      Propertycount  no_year  Historic  \n",
       "5114          13366      825  Historic  "
      ]
     },
     "execution_count": 17,
     "metadata": {},
     "output_type": "execute_result"
    }
   ],
   "source": [
    "dataset[dataset['no_year']>800]"
   ]
  },
  {
   "cell_type": "code",
   "execution_count": 18,
   "metadata": {},
   "outputs": [
    {
     "data": {
      "text/html": [
       "<div>\n",
       "<style scoped>\n",
       "    .dataframe tbody tr th:only-of-type {\n",
       "        vertical-align: middle;\n",
       "    }\n",
       "\n",
       "    .dataframe tbody tr th {\n",
       "        vertical-align: top;\n",
       "    }\n",
       "\n",
       "    .dataframe thead th {\n",
       "        text-align: right;\n",
       "    }\n",
       "</style>\n",
       "<table border=\"1\" class=\"dataframe\">\n",
       "  <thead>\n",
       "    <tr style=\"text-align: right;\">\n",
       "      <th></th>\n",
       "      <th>Rooms</th>\n",
       "      <th>Type</th>\n",
       "      <th>Price</th>\n",
       "      <th>Method</th>\n",
       "      <th>SellerG</th>\n",
       "      <th>Distance</th>\n",
       "      <th>Postcode</th>\n",
       "      <th>Bathroom</th>\n",
       "      <th>Car</th>\n",
       "      <th>Landsize</th>\n",
       "      <th>BuildingArea</th>\n",
       "      <th>CouncilArea</th>\n",
       "      <th>Longtitude</th>\n",
       "      <th>Regionname</th>\n",
       "      <th>Propertycount</th>\n",
       "      <th>no_year</th>\n",
       "      <th>Historic</th>\n",
       "    </tr>\n",
       "  </thead>\n",
       "  <tbody>\n",
       "    <tr>\n",
       "      <th>2394</th>\n",
       "      <td>2</td>\n",
       "      <td>1</td>\n",
       "      <td>841000</td>\n",
       "      <td>1</td>\n",
       "      <td>106</td>\n",
       "      <td>2.3</td>\n",
       "      <td>3051</td>\n",
       "      <td>1</td>\n",
       "      <td>1</td>\n",
       "      <td>215</td>\n",
       "      <td>0.0</td>\n",
       "      <td>18</td>\n",
       "      <td>144.94370</td>\n",
       "      <td>2</td>\n",
       "      <td>6821</td>\n",
       "      <td>21</td>\n",
       "      <td>Contemporary</td>\n",
       "    </tr>\n",
       "    <tr>\n",
       "      <th>6201</th>\n",
       "      <td>5</td>\n",
       "      <td>0</td>\n",
       "      <td>1950000</td>\n",
       "      <td>1</td>\n",
       "      <td>192</td>\n",
       "      <td>9.7</td>\n",
       "      <td>3104</td>\n",
       "      <td>3</td>\n",
       "      <td>2</td>\n",
       "      <td>743</td>\n",
       "      <td>0.0</td>\n",
       "      <td>-1</td>\n",
       "      <td>145.09311</td>\n",
       "      <td>5</td>\n",
       "      <td>7809</td>\n",
       "      <td>72</td>\n",
       "      <td>Historic</td>\n",
       "    </tr>\n",
       "    <tr>\n",
       "      <th>6211</th>\n",
       "      <td>3</td>\n",
       "      <td>0</td>\n",
       "      <td>814000</td>\n",
       "      <td>1</td>\n",
       "      <td>16</td>\n",
       "      <td>12.1</td>\n",
       "      <td>3083</td>\n",
       "      <td>1</td>\n",
       "      <td>2</td>\n",
       "      <td>542</td>\n",
       "      <td>0.0</td>\n",
       "      <td>-1</td>\n",
       "      <td>145.05691</td>\n",
       "      <td>2</td>\n",
       "      <td>10175</td>\n",
       "      <td>51</td>\n",
       "      <td>Historic</td>\n",
       "    </tr>\n",
       "    <tr>\n",
       "      <th>6273</th>\n",
       "      <td>4</td>\n",
       "      <td>0</td>\n",
       "      <td>570000</td>\n",
       "      <td>1</td>\n",
       "      <td>194</td>\n",
       "      <td>20.6</td>\n",
       "      <td>3064</td>\n",
       "      <td>2</td>\n",
       "      <td>2</td>\n",
       "      <td>504</td>\n",
       "      <td>0.0</td>\n",
       "      <td>-1</td>\n",
       "      <td>144.93448</td>\n",
       "      <td>2</td>\n",
       "      <td>5833</td>\n",
       "      <td>21</td>\n",
       "      <td>Contemporary</td>\n",
       "    </tr>\n",
       "    <tr>\n",
       "      <th>6282</th>\n",
       "      <td>3</td>\n",
       "      <td>1</td>\n",
       "      <td>900000</td>\n",
       "      <td>4</td>\n",
       "      <td>106</td>\n",
       "      <td>7.0</td>\n",
       "      <td>3071</td>\n",
       "      <td>2</td>\n",
       "      <td>2</td>\n",
       "      <td>120</td>\n",
       "      <td>0.0</td>\n",
       "      <td>-1</td>\n",
       "      <td>145.02096</td>\n",
       "      <td>2</td>\n",
       "      <td>8870</td>\n",
       "      <td>21</td>\n",
       "      <td>Contemporary</td>\n",
       "    </tr>\n",
       "    <tr>\n",
       "      <th>6575</th>\n",
       "      <td>3</td>\n",
       "      <td>0</td>\n",
       "      <td>1390000</td>\n",
       "      <td>1</td>\n",
       "      <td>135</td>\n",
       "      <td>4.6</td>\n",
       "      <td>3181</td>\n",
       "      <td>2</td>\n",
       "      <td>1</td>\n",
       "      <td>125</td>\n",
       "      <td>0.0</td>\n",
       "      <td>-1</td>\n",
       "      <td>145.00296</td>\n",
       "      <td>5</td>\n",
       "      <td>7717</td>\n",
       "      <td>19</td>\n",
       "      <td>Contemporary</td>\n",
       "    </tr>\n",
       "    <tr>\n",
       "      <th>6648</th>\n",
       "      <td>3</td>\n",
       "      <td>0</td>\n",
       "      <td>1205000</td>\n",
       "      <td>2</td>\n",
       "      <td>71</td>\n",
       "      <td>12.3</td>\n",
       "      <td>3166</td>\n",
       "      <td>2</td>\n",
       "      <td>4</td>\n",
       "      <td>622</td>\n",
       "      <td>0.0</td>\n",
       "      <td>-1</td>\n",
       "      <td>145.10851</td>\n",
       "      <td>5</td>\n",
       "      <td>768</td>\n",
       "      <td>61</td>\n",
       "      <td>Historic</td>\n",
       "    </tr>\n",
       "    <tr>\n",
       "      <th>6707</th>\n",
       "      <td>5</td>\n",
       "      <td>0</td>\n",
       "      <td>2800000</td>\n",
       "      <td>1</td>\n",
       "      <td>135</td>\n",
       "      <td>9.7</td>\n",
       "      <td>3104</td>\n",
       "      <td>2</td>\n",
       "      <td>2</td>\n",
       "      <td>1173</td>\n",
       "      <td>0.0</td>\n",
       "      <td>-1</td>\n",
       "      <td>145.09094</td>\n",
       "      <td>5</td>\n",
       "      <td>7809</td>\n",
       "      <td>61</td>\n",
       "      <td>Historic</td>\n",
       "    </tr>\n",
       "    <tr>\n",
       "      <th>6720</th>\n",
       "      <td>3</td>\n",
       "      <td>0</td>\n",
       "      <td>1650000</td>\n",
       "      <td>3</td>\n",
       "      <td>32</td>\n",
       "      <td>10.3</td>\n",
       "      <td>3187</td>\n",
       "      <td>2</td>\n",
       "      <td>2</td>\n",
       "      <td>623</td>\n",
       "      <td>0.0</td>\n",
       "      <td>-1</td>\n",
       "      <td>145.02673</td>\n",
       "      <td>5</td>\n",
       "      <td>6938</td>\n",
       "      <td>101</td>\n",
       "      <td>Historic</td>\n",
       "    </tr>\n",
       "    <tr>\n",
       "      <th>6724</th>\n",
       "      <td>4</td>\n",
       "      <td>0</td>\n",
       "      <td>815000</td>\n",
       "      <td>1</td>\n",
       "      <td>196</td>\n",
       "      <td>12.1</td>\n",
       "      <td>3083</td>\n",
       "      <td>2</td>\n",
       "      <td>1</td>\n",
       "      <td>525</td>\n",
       "      <td>0.0</td>\n",
       "      <td>-1</td>\n",
       "      <td>145.05556</td>\n",
       "      <td>2</td>\n",
       "      <td>10175</td>\n",
       "      <td>56</td>\n",
       "      <td>Historic</td>\n",
       "    </tr>\n",
       "    <tr>\n",
       "      <th>6737</th>\n",
       "      <td>3</td>\n",
       "      <td>0</td>\n",
       "      <td>412500</td>\n",
       "      <td>1</td>\n",
       "      <td>190</td>\n",
       "      <td>20.6</td>\n",
       "      <td>3064</td>\n",
       "      <td>2</td>\n",
       "      <td>1</td>\n",
       "      <td>197</td>\n",
       "      <td>0.0</td>\n",
       "      <td>-1</td>\n",
       "      <td>144.91100</td>\n",
       "      <td>2</td>\n",
       "      <td>15510</td>\n",
       "      <td>9</td>\n",
       "      <td>Contemporary</td>\n",
       "    </tr>\n",
       "    <tr>\n",
       "      <th>6744</th>\n",
       "      <td>3</td>\n",
       "      <td>0</td>\n",
       "      <td>595000</td>\n",
       "      <td>1</td>\n",
       "      <td>260</td>\n",
       "      <td>19.6</td>\n",
       "      <td>3076</td>\n",
       "      <td>1</td>\n",
       "      <td>2</td>\n",
       "      <td>536</td>\n",
       "      <td>0.0</td>\n",
       "      <td>-1</td>\n",
       "      <td>145.04086</td>\n",
       "      <td>2</td>\n",
       "      <td>10926</td>\n",
       "      <td>41</td>\n",
       "      <td>Contemporary</td>\n",
       "    </tr>\n",
       "    <tr>\n",
       "      <th>6757</th>\n",
       "      <td>4</td>\n",
       "      <td>0</td>\n",
       "      <td>2690000</td>\n",
       "      <td>0</td>\n",
       "      <td>135</td>\n",
       "      <td>7.3</td>\n",
       "      <td>3146</td>\n",
       "      <td>2</td>\n",
       "      <td>2</td>\n",
       "      <td>647</td>\n",
       "      <td>0.0</td>\n",
       "      <td>-1</td>\n",
       "      <td>145.04167</td>\n",
       "      <td>5</td>\n",
       "      <td>10412</td>\n",
       "      <td>111</td>\n",
       "      <td>Historic</td>\n",
       "    </tr>\n",
       "    <tr>\n",
       "      <th>6768</th>\n",
       "      <td>5</td>\n",
       "      <td>0</td>\n",
       "      <td>3450000</td>\n",
       "      <td>0</td>\n",
       "      <td>111</td>\n",
       "      <td>5.4</td>\n",
       "      <td>3101</td>\n",
       "      <td>2</td>\n",
       "      <td>2</td>\n",
       "      <td>668</td>\n",
       "      <td>0.0</td>\n",
       "      <td>-1</td>\n",
       "      <td>145.01474</td>\n",
       "      <td>5</td>\n",
       "      <td>10331</td>\n",
       "      <td>15</td>\n",
       "      <td>Contemporary</td>\n",
       "    </tr>\n",
       "    <tr>\n",
       "      <th>6770</th>\n",
       "      <td>3</td>\n",
       "      <td>0</td>\n",
       "      <td>803000</td>\n",
       "      <td>1</td>\n",
       "      <td>138</td>\n",
       "      <td>26.0</td>\n",
       "      <td>3137</td>\n",
       "      <td>1</td>\n",
       "      <td>2</td>\n",
       "      <td>862</td>\n",
       "      <td>0.0</td>\n",
       "      <td>-1</td>\n",
       "      <td>145.32092</td>\n",
       "      <td>0</td>\n",
       "      <td>4654</td>\n",
       "      <td>51</td>\n",
       "      <td>Historic</td>\n",
       "    </tr>\n",
       "    <tr>\n",
       "      <th>6787</th>\n",
       "      <td>3</td>\n",
       "      <td>0</td>\n",
       "      <td>1290000</td>\n",
       "      <td>1</td>\n",
       "      <td>196</td>\n",
       "      <td>14.3</td>\n",
       "      <td>3189</td>\n",
       "      <td>1</td>\n",
       "      <td>1</td>\n",
       "      <td>580</td>\n",
       "      <td>0.0</td>\n",
       "      <td>-1</td>\n",
       "      <td>145.04938</td>\n",
       "      <td>5</td>\n",
       "      <td>2555</td>\n",
       "      <td>51</td>\n",
       "      <td>Historic</td>\n",
       "    </tr>\n",
       "    <tr>\n",
       "      <th>6799</th>\n",
       "      <td>4</td>\n",
       "      <td>1</td>\n",
       "      <td>2455000</td>\n",
       "      <td>3</td>\n",
       "      <td>135</td>\n",
       "      <td>3.5</td>\n",
       "      <td>3207</td>\n",
       "      <td>3</td>\n",
       "      <td>2</td>\n",
       "      <td>123</td>\n",
       "      <td>0.0</td>\n",
       "      <td>-1</td>\n",
       "      <td>144.94840</td>\n",
       "      <td>5</td>\n",
       "      <td>8648</td>\n",
       "      <td>11</td>\n",
       "      <td>Contemporary</td>\n",
       "    </tr>\n",
       "  </tbody>\n",
       "</table>\n",
       "</div>"
      ],
      "text/plain": [
       "      Rooms  Type    Price  Method  SellerG  Distance  Postcode  Bathroom  \\\n",
       "2394      2     1   841000       1      106       2.3      3051         1   \n",
       "6201      5     0  1950000       1      192       9.7      3104         3   \n",
       "6211      3     0   814000       1       16      12.1      3083         1   \n",
       "6273      4     0   570000       1      194      20.6      3064         2   \n",
       "6282      3     1   900000       4      106       7.0      3071         2   \n",
       "6575      3     0  1390000       1      135       4.6      3181         2   \n",
       "6648      3     0  1205000       2       71      12.3      3166         2   \n",
       "6707      5     0  2800000       1      135       9.7      3104         2   \n",
       "6720      3     0  1650000       3       32      10.3      3187         2   \n",
       "6724      4     0   815000       1      196      12.1      3083         2   \n",
       "6737      3     0   412500       1      190      20.6      3064         2   \n",
       "6744      3     0   595000       1      260      19.6      3076         1   \n",
       "6757      4     0  2690000       0      135       7.3      3146         2   \n",
       "6768      5     0  3450000       0      111       5.4      3101         2   \n",
       "6770      3     0   803000       1      138      26.0      3137         1   \n",
       "6787      3     0  1290000       1      196      14.3      3189         1   \n",
       "6799      4     1  2455000       3      135       3.5      3207         3   \n",
       "\n",
       "      Car  Landsize  BuildingArea  CouncilArea  Longtitude  Regionname  \\\n",
       "2394    1       215           0.0           18   144.94370           2   \n",
       "6201    2       743           0.0           -1   145.09311           5   \n",
       "6211    2       542           0.0           -1   145.05691           2   \n",
       "6273    2       504           0.0           -1   144.93448           2   \n",
       "6282    2       120           0.0           -1   145.02096           2   \n",
       "6575    1       125           0.0           -1   145.00296           5   \n",
       "6648    4       622           0.0           -1   145.10851           5   \n",
       "6707    2      1173           0.0           -1   145.09094           5   \n",
       "6720    2       623           0.0           -1   145.02673           5   \n",
       "6724    1       525           0.0           -1   145.05556           2   \n",
       "6737    1       197           0.0           -1   144.91100           2   \n",
       "6744    2       536           0.0           -1   145.04086           2   \n",
       "6757    2       647           0.0           -1   145.04167           5   \n",
       "6768    2       668           0.0           -1   145.01474           5   \n",
       "6770    2       862           0.0           -1   145.32092           0   \n",
       "6787    1       580           0.0           -1   145.04938           5   \n",
       "6799    2       123           0.0           -1   144.94840           5   \n",
       "\n",
       "      Propertycount  no_year      Historic  \n",
       "2394           6821       21  Contemporary  \n",
       "6201           7809       72      Historic  \n",
       "6211          10175       51      Historic  \n",
       "6273           5833       21  Contemporary  \n",
       "6282           8870       21  Contemporary  \n",
       "6575           7717       19  Contemporary  \n",
       "6648            768       61      Historic  \n",
       "6707           7809       61      Historic  \n",
       "6720           6938      101      Historic  \n",
       "6724          10175       56      Historic  \n",
       "6737          15510        9  Contemporary  \n",
       "6744          10926       41  Contemporary  \n",
       "6757          10412      111      Historic  \n",
       "6768          10331       15  Contemporary  \n",
       "6770           4654       51      Historic  \n",
       "6787           2555       51      Historic  \n",
       "6799           8648       11  Contemporary  "
      ]
     },
     "execution_count": 18,
     "metadata": {},
     "output_type": "execute_result"
    }
   ],
   "source": [
    "dataset[dataset['BuildingArea']==0]"
   ]
  },
  {
   "cell_type": "code",
   "execution_count": 19,
   "metadata": {},
   "outputs": [
    {
     "data": {
      "text/html": [
       "<div>\n",
       "<style scoped>\n",
       "    .dataframe tbody tr th:only-of-type {\n",
       "        vertical-align: middle;\n",
       "    }\n",
       "\n",
       "    .dataframe tbody tr th {\n",
       "        vertical-align: top;\n",
       "    }\n",
       "\n",
       "    .dataframe thead th {\n",
       "        text-align: right;\n",
       "    }\n",
       "</style>\n",
       "<table border=\"1\" class=\"dataframe\">\n",
       "  <thead>\n",
       "    <tr style=\"text-align: right;\">\n",
       "      <th></th>\n",
       "      <th>Rooms</th>\n",
       "      <th>Type</th>\n",
       "      <th>Price</th>\n",
       "      <th>Method</th>\n",
       "      <th>SellerG</th>\n",
       "      <th>Distance</th>\n",
       "      <th>Postcode</th>\n",
       "      <th>Bathroom</th>\n",
       "      <th>Car</th>\n",
       "      <th>Landsize</th>\n",
       "      <th>BuildingArea</th>\n",
       "      <th>CouncilArea</th>\n",
       "      <th>Longtitude</th>\n",
       "      <th>Regionname</th>\n",
       "      <th>Propertycount</th>\n",
       "      <th>no_year</th>\n",
       "      <th>Historic</th>\n",
       "    </tr>\n",
       "  </thead>\n",
       "  <tbody>\n",
       "    <tr>\n",
       "      <th>7</th>\n",
       "      <td>2</td>\n",
       "      <td>2</td>\n",
       "      <td>750000</td>\n",
       "      <td>1</td>\n",
       "      <td>23</td>\n",
       "      <td>2.5</td>\n",
       "      <td>3067</td>\n",
       "      <td>2</td>\n",
       "      <td>1</td>\n",
       "      <td>0</td>\n",
       "      <td>94.00</td>\n",
       "      <td>31</td>\n",
       "      <td>144.99650</td>\n",
       "      <td>2</td>\n",
       "      <td>4019</td>\n",
       "      <td>12</td>\n",
       "      <td>Contemporary</td>\n",
       "    </tr>\n",
       "    <tr>\n",
       "      <th>13</th>\n",
       "      <td>2</td>\n",
       "      <td>2</td>\n",
       "      <td>500000</td>\n",
       "      <td>1</td>\n",
       "      <td>49</td>\n",
       "      <td>2.5</td>\n",
       "      <td>3067</td>\n",
       "      <td>1</td>\n",
       "      <td>1</td>\n",
       "      <td>0</td>\n",
       "      <td>60.00</td>\n",
       "      <td>31</td>\n",
       "      <td>144.99720</td>\n",
       "      <td>2</td>\n",
       "      <td>4019</td>\n",
       "      <td>51</td>\n",
       "      <td>Historic</td>\n",
       "    </tr>\n",
       "    <tr>\n",
       "      <th>19</th>\n",
       "      <td>1</td>\n",
       "      <td>2</td>\n",
       "      <td>470000</td>\n",
       "      <td>1</td>\n",
       "      <td>155</td>\n",
       "      <td>2.5</td>\n",
       "      <td>3067</td>\n",
       "      <td>1</td>\n",
       "      <td>1</td>\n",
       "      <td>0</td>\n",
       "      <td>50.00</td>\n",
       "      <td>31</td>\n",
       "      <td>144.99610</td>\n",
       "      <td>2</td>\n",
       "      <td>4019</td>\n",
       "      <td>8</td>\n",
       "      <td>Contemporary</td>\n",
       "    </tr>\n",
       "    <tr>\n",
       "      <th>25</th>\n",
       "      <td>3</td>\n",
       "      <td>0</td>\n",
       "      <td>730000</td>\n",
       "      <td>4</td>\n",
       "      <td>155</td>\n",
       "      <td>13.5</td>\n",
       "      <td>3042</td>\n",
       "      <td>2</td>\n",
       "      <td>1</td>\n",
       "      <td>0</td>\n",
       "      <td>145.00</td>\n",
       "      <td>21</td>\n",
       "      <td>144.87550</td>\n",
       "      <td>6</td>\n",
       "      <td>3464</td>\n",
       "      <td>56</td>\n",
       "      <td>Historic</td>\n",
       "    </tr>\n",
       "    <tr>\n",
       "      <th>26</th>\n",
       "      <td>3</td>\n",
       "      <td>0</td>\n",
       "      <td>770000</td>\n",
       "      <td>3</td>\n",
       "      <td>155</td>\n",
       "      <td>13.5</td>\n",
       "      <td>3042</td>\n",
       "      <td>2</td>\n",
       "      <td>1</td>\n",
       "      <td>0</td>\n",
       "      <td>145.00</td>\n",
       "      <td>21</td>\n",
       "      <td>144.87550</td>\n",
       "      <td>6</td>\n",
       "      <td>3464</td>\n",
       "      <td>56</td>\n",
       "      <td>Historic</td>\n",
       "    </tr>\n",
       "    <tr>\n",
       "      <th>...</th>\n",
       "      <td>...</td>\n",
       "      <td>...</td>\n",
       "      <td>...</td>\n",
       "      <td>...</td>\n",
       "      <td>...</td>\n",
       "      <td>...</td>\n",
       "      <td>...</td>\n",
       "      <td>...</td>\n",
       "      <td>...</td>\n",
       "      <td>...</td>\n",
       "      <td>...</td>\n",
       "      <td>...</td>\n",
       "      <td>...</td>\n",
       "      <td>...</td>\n",
       "      <td>...</td>\n",
       "      <td>...</td>\n",
       "      <td>...</td>\n",
       "    </tr>\n",
       "    <tr>\n",
       "      <th>6170</th>\n",
       "      <td>2</td>\n",
       "      <td>2</td>\n",
       "      <td>570000</td>\n",
       "      <td>4</td>\n",
       "      <td>196</td>\n",
       "      <td>2.7</td>\n",
       "      <td>3141</td>\n",
       "      <td>1</td>\n",
       "      <td>1</td>\n",
       "      <td>0</td>\n",
       "      <td>64.00</td>\n",
       "      <td>26</td>\n",
       "      <td>145.00206</td>\n",
       "      <td>5</td>\n",
       "      <td>14887</td>\n",
       "      <td>56</td>\n",
       "      <td>Historic</td>\n",
       "    </tr>\n",
       "    <tr>\n",
       "      <th>6171</th>\n",
       "      <td>2</td>\n",
       "      <td>2</td>\n",
       "      <td>600000</td>\n",
       "      <td>4</td>\n",
       "      <td>260</td>\n",
       "      <td>5.0</td>\n",
       "      <td>3182</td>\n",
       "      <td>1</td>\n",
       "      <td>1</td>\n",
       "      <td>0</td>\n",
       "      <td>82.00</td>\n",
       "      <td>25</td>\n",
       "      <td>144.97900</td>\n",
       "      <td>5</td>\n",
       "      <td>13240</td>\n",
       "      <td>91</td>\n",
       "      <td>Historic</td>\n",
       "    </tr>\n",
       "    <tr>\n",
       "      <th>6184</th>\n",
       "      <td>2</td>\n",
       "      <td>2</td>\n",
       "      <td>300000</td>\n",
       "      <td>3</td>\n",
       "      <td>105</td>\n",
       "      <td>12.9</td>\n",
       "      <td>3043</td>\n",
       "      <td>1</td>\n",
       "      <td>1</td>\n",
       "      <td>0</td>\n",
       "      <td>66.32</td>\n",
       "      <td>11</td>\n",
       "      <td>144.88019</td>\n",
       "      <td>6</td>\n",
       "      <td>3296</td>\n",
       "      <td>41</td>\n",
       "      <td>Contemporary</td>\n",
       "    </tr>\n",
       "    <tr>\n",
       "      <th>6193</th>\n",
       "      <td>1</td>\n",
       "      <td>2</td>\n",
       "      <td>385000</td>\n",
       "      <td>3</td>\n",
       "      <td>251</td>\n",
       "      <td>6.8</td>\n",
       "      <td>3016</td>\n",
       "      <td>1</td>\n",
       "      <td>1</td>\n",
       "      <td>0</td>\n",
       "      <td>35.64</td>\n",
       "      <td>10</td>\n",
       "      <td>144.89936</td>\n",
       "      <td>6</td>\n",
       "      <td>6380</td>\n",
       "      <td>54</td>\n",
       "      <td>Historic</td>\n",
       "    </tr>\n",
       "    <tr>\n",
       "      <th>6194</th>\n",
       "      <td>2</td>\n",
       "      <td>2</td>\n",
       "      <td>560000</td>\n",
       "      <td>0</td>\n",
       "      <td>260</td>\n",
       "      <td>4.6</td>\n",
       "      <td>3181</td>\n",
       "      <td>1</td>\n",
       "      <td>1</td>\n",
       "      <td>0</td>\n",
       "      <td>61.60</td>\n",
       "      <td>26</td>\n",
       "      <td>144.99025</td>\n",
       "      <td>5</td>\n",
       "      <td>4380</td>\n",
       "      <td>9</td>\n",
       "      <td>Contemporary</td>\n",
       "    </tr>\n",
       "  </tbody>\n",
       "</table>\n",
       "<p>1015 rows × 17 columns</p>\n",
       "</div>"
      ],
      "text/plain": [
       "      Rooms  Type   Price  Method  SellerG  Distance  Postcode  Bathroom  Car  \\\n",
       "7         2     2  750000       1       23       2.5      3067         2    1   \n",
       "13        2     2  500000       1       49       2.5      3067         1    1   \n",
       "19        1     2  470000       1      155       2.5      3067         1    1   \n",
       "25        3     0  730000       4      155      13.5      3042         2    1   \n",
       "26        3     0  770000       3      155      13.5      3042         2    1   \n",
       "...     ...   ...     ...     ...      ...       ...       ...       ...  ...   \n",
       "6170      2     2  570000       4      196       2.7      3141         1    1   \n",
       "6171      2     2  600000       4      260       5.0      3182         1    1   \n",
       "6184      2     2  300000       3      105      12.9      3043         1    1   \n",
       "6193      1     2  385000       3      251       6.8      3016         1    1   \n",
       "6194      2     2  560000       0      260       4.6      3181         1    1   \n",
       "\n",
       "      Landsize  BuildingArea  CouncilArea  Longtitude  Regionname  \\\n",
       "7            0         94.00           31   144.99650           2   \n",
       "13           0         60.00           31   144.99720           2   \n",
       "19           0         50.00           31   144.99610           2   \n",
       "25           0        145.00           21   144.87550           6   \n",
       "26           0        145.00           21   144.87550           6   \n",
       "...        ...           ...          ...         ...         ...   \n",
       "6170         0         64.00           26   145.00206           5   \n",
       "6171         0         82.00           25   144.97900           5   \n",
       "6184         0         66.32           11   144.88019           6   \n",
       "6193         0         35.64           10   144.89936           6   \n",
       "6194         0         61.60           26   144.99025           5   \n",
       "\n",
       "      Propertycount  no_year      Historic  \n",
       "7              4019       12  Contemporary  \n",
       "13             4019       51      Historic  \n",
       "19             4019        8  Contemporary  \n",
       "25             3464       56      Historic  \n",
       "26             3464       56      Historic  \n",
       "...             ...      ...           ...  \n",
       "6170          14887       56      Historic  \n",
       "6171          13240       91      Historic  \n",
       "6184           3296       41  Contemporary  \n",
       "6193           6380       54      Historic  \n",
       "6194           4380        9  Contemporary  \n",
       "\n",
       "[1015 rows x 17 columns]"
      ]
     },
     "execution_count": 19,
     "metadata": {},
     "output_type": "execute_result"
    }
   ],
   "source": [
    "dataset[dataset['Landsize']==0]"
   ]
  },
  {
   "cell_type": "code",
   "execution_count": 20,
   "metadata": {},
   "outputs": [
    {
     "data": {
      "text/html": [
       "<div>\n",
       "<style scoped>\n",
       "    .dataframe tbody tr th:only-of-type {\n",
       "        vertical-align: middle;\n",
       "    }\n",
       "\n",
       "    .dataframe tbody tr th {\n",
       "        vertical-align: top;\n",
       "    }\n",
       "\n",
       "    .dataframe thead th {\n",
       "        text-align: right;\n",
       "    }\n",
       "</style>\n",
       "<table border=\"1\" class=\"dataframe\">\n",
       "  <thead>\n",
       "    <tr style=\"text-align: right;\">\n",
       "      <th></th>\n",
       "      <th>count</th>\n",
       "      <th>mean</th>\n",
       "      <th>std</th>\n",
       "      <th>min</th>\n",
       "      <th>25%</th>\n",
       "      <th>50%</th>\n",
       "      <th>75%</th>\n",
       "      <th>max</th>\n",
       "    </tr>\n",
       "  </thead>\n",
       "  <tbody>\n",
       "    <tr>\n",
       "      <th>Rooms</th>\n",
       "      <td>6813.0</td>\n",
       "      <td>2.976809e+00</td>\n",
       "      <td>0.970373</td>\n",
       "      <td>1.00000</td>\n",
       "      <td>2.00000</td>\n",
       "      <td>3.00000</td>\n",
       "      <td>4.000000e+00</td>\n",
       "      <td>8.000000e+00</td>\n",
       "    </tr>\n",
       "    <tr>\n",
       "      <th>Type</th>\n",
       "      <td>6813.0</td>\n",
       "      <td>5.423455e-01</td>\n",
       "      <td>0.834783</td>\n",
       "      <td>0.00000</td>\n",
       "      <td>0.00000</td>\n",
       "      <td>0.00000</td>\n",
       "      <td>1.000000e+00</td>\n",
       "      <td>2.000000e+00</td>\n",
       "    </tr>\n",
       "    <tr>\n",
       "      <th>Price</th>\n",
       "      <td>6813.0</td>\n",
       "      <td>1.076677e+06</td>\n",
       "      <td>672461.491212</td>\n",
       "      <td>131000.00000</td>\n",
       "      <td>630000.00000</td>\n",
       "      <td>890000.00000</td>\n",
       "      <td>1.330000e+06</td>\n",
       "      <td>9.000000e+06</td>\n",
       "    </tr>\n",
       "    <tr>\n",
       "      <th>Method</th>\n",
       "      <td>6813.0</td>\n",
       "      <td>1.438573e+00</td>\n",
       "      <td>1.142872</td>\n",
       "      <td>0.00000</td>\n",
       "      <td>1.00000</td>\n",
       "      <td>1.00000</td>\n",
       "      <td>1.000000e+00</td>\n",
       "      <td>4.000000e+00</td>\n",
       "    </tr>\n",
       "    <tr>\n",
       "      <th>SellerG</th>\n",
       "      <td>6813.0</td>\n",
       "      <td>1.316160e+02</td>\n",
       "      <td>77.159530</td>\n",
       "      <td>0.00000</td>\n",
       "      <td>73.00000</td>\n",
       "      <td>135.00000</td>\n",
       "      <td>1.940000e+02</td>\n",
       "      <td>2.670000e+02</td>\n",
       "    </tr>\n",
       "    <tr>\n",
       "      <th>Distance</th>\n",
       "      <td>6813.0</td>\n",
       "      <td>1.014531e+01</td>\n",
       "      <td>5.989512</td>\n",
       "      <td>0.00000</td>\n",
       "      <td>6.10000</td>\n",
       "      <td>9.20000</td>\n",
       "      <td>1.300000e+01</td>\n",
       "      <td>4.740000e+01</td>\n",
       "    </tr>\n",
       "    <tr>\n",
       "      <th>Postcode</th>\n",
       "      <td>6813.0</td>\n",
       "      <td>3.104227e+03</td>\n",
       "      <td>91.285371</td>\n",
       "      <td>3000.00000</td>\n",
       "      <td>3044.00000</td>\n",
       "      <td>3083.00000</td>\n",
       "      <td>3.147000e+03</td>\n",
       "      <td>3.977000e+03</td>\n",
       "    </tr>\n",
       "    <tr>\n",
       "      <th>Bathroom</th>\n",
       "      <td>6813.0</td>\n",
       "      <td>1.593571e+00</td>\n",
       "      <td>0.714500</td>\n",
       "      <td>1.00000</td>\n",
       "      <td>1.00000</td>\n",
       "      <td>1.00000</td>\n",
       "      <td>2.000000e+00</td>\n",
       "      <td>8.000000e+00</td>\n",
       "    </tr>\n",
       "    <tr>\n",
       "      <th>Car</th>\n",
       "      <td>6813.0</td>\n",
       "      <td>1.606341e+00</td>\n",
       "      <td>0.945071</td>\n",
       "      <td>0.00000</td>\n",
       "      <td>1.00000</td>\n",
       "      <td>2.00000</td>\n",
       "      <td>2.000000e+00</td>\n",
       "      <td>1.000000e+01</td>\n",
       "    </tr>\n",
       "    <tr>\n",
       "      <th>Landsize</th>\n",
       "      <td>6813.0</td>\n",
       "      <td>4.874195e+02</td>\n",
       "      <td>911.833280</td>\n",
       "      <td>0.00000</td>\n",
       "      <td>166.00000</td>\n",
       "      <td>404.00000</td>\n",
       "      <td>6.410000e+02</td>\n",
       "      <td>3.700000e+04</td>\n",
       "    </tr>\n",
       "    <tr>\n",
       "      <th>BuildingArea</th>\n",
       "      <td>6813.0</td>\n",
       "      <td>1.438045e+02</td>\n",
       "      <td>89.796697</td>\n",
       "      <td>1.00000</td>\n",
       "      <td>94.00000</td>\n",
       "      <td>126.00000</td>\n",
       "      <td>1.730000e+02</td>\n",
       "      <td>3.112000e+03</td>\n",
       "    </tr>\n",
       "    <tr>\n",
       "      <th>CouncilArea</th>\n",
       "      <td>6813.0</td>\n",
       "      <td>1.363672e+01</td>\n",
       "      <td>10.359069</td>\n",
       "      <td>-1.00000</td>\n",
       "      <td>3.00000</td>\n",
       "      <td>15.00000</td>\n",
       "      <td>2.300000e+01</td>\n",
       "      <td>3.200000e+01</td>\n",
       "    </tr>\n",
       "    <tr>\n",
       "      <th>Longtitude</th>\n",
       "      <td>6813.0</td>\n",
       "      <td>1.449918e+02</td>\n",
       "      <td>0.104991</td>\n",
       "      <td>144.54237</td>\n",
       "      <td>144.92548</td>\n",
       "      <td>144.99681</td>\n",
       "      <td>1.450561e+02</td>\n",
       "      <td>1.455264e+02</td>\n",
       "    </tr>\n",
       "    <tr>\n",
       "      <th>Regionname</th>\n",
       "      <td>6813.0</td>\n",
       "      <td>3.793483e+00</td>\n",
       "      <td>2.012236</td>\n",
       "      <td>0.00000</td>\n",
       "      <td>2.00000</td>\n",
       "      <td>5.00000</td>\n",
       "      <td>5.000000e+00</td>\n",
       "      <td>7.000000e+00</td>\n",
       "    </tr>\n",
       "    <tr>\n",
       "      <th>Propertycount</th>\n",
       "      <td>6813.0</td>\n",
       "      <td>7.432375e+03</td>\n",
       "      <td>4354.274865</td>\n",
       "      <td>389.00000</td>\n",
       "      <td>4380.00000</td>\n",
       "      <td>6567.00000</td>\n",
       "      <td>1.017500e+04</td>\n",
       "      <td>2.165000e+04</td>\n",
       "    </tr>\n",
       "    <tr>\n",
       "      <th>no_year</th>\n",
       "      <td>6813.0</td>\n",
       "      <td>5.658359e+01</td>\n",
       "      <td>37.720628</td>\n",
       "      <td>3.00000</td>\n",
       "      <td>21.00000</td>\n",
       "      <td>51.00000</td>\n",
       "      <td>8.100000e+01</td>\n",
       "      <td>8.250000e+02</td>\n",
       "    </tr>\n",
       "  </tbody>\n",
       "</table>\n",
       "</div>"
      ],
      "text/plain": [
       "                count          mean            std           min  \\\n",
       "Rooms          6813.0  2.976809e+00       0.970373       1.00000   \n",
       "Type           6813.0  5.423455e-01       0.834783       0.00000   \n",
       "Price          6813.0  1.076677e+06  672461.491212  131000.00000   \n",
       "Method         6813.0  1.438573e+00       1.142872       0.00000   \n",
       "SellerG        6813.0  1.316160e+02      77.159530       0.00000   \n",
       "Distance       6813.0  1.014531e+01       5.989512       0.00000   \n",
       "Postcode       6813.0  3.104227e+03      91.285371    3000.00000   \n",
       "Bathroom       6813.0  1.593571e+00       0.714500       1.00000   \n",
       "Car            6813.0  1.606341e+00       0.945071       0.00000   \n",
       "Landsize       6813.0  4.874195e+02     911.833280       0.00000   \n",
       "BuildingArea   6813.0  1.438045e+02      89.796697       1.00000   \n",
       "CouncilArea    6813.0  1.363672e+01      10.359069      -1.00000   \n",
       "Longtitude     6813.0  1.449918e+02       0.104991     144.54237   \n",
       "Regionname     6813.0  3.793483e+00       2.012236       0.00000   \n",
       "Propertycount  6813.0  7.432375e+03    4354.274865     389.00000   \n",
       "no_year        6813.0  5.658359e+01      37.720628       3.00000   \n",
       "\n",
       "                        25%           50%           75%           max  \n",
       "Rooms               2.00000       3.00000  4.000000e+00  8.000000e+00  \n",
       "Type                0.00000       0.00000  1.000000e+00  2.000000e+00  \n",
       "Price          630000.00000  890000.00000  1.330000e+06  9.000000e+06  \n",
       "Method              1.00000       1.00000  1.000000e+00  4.000000e+00  \n",
       "SellerG            73.00000     135.00000  1.940000e+02  2.670000e+02  \n",
       "Distance            6.10000       9.20000  1.300000e+01  4.740000e+01  \n",
       "Postcode         3044.00000    3083.00000  3.147000e+03  3.977000e+03  \n",
       "Bathroom            1.00000       1.00000  2.000000e+00  8.000000e+00  \n",
       "Car                 1.00000       2.00000  2.000000e+00  1.000000e+01  \n",
       "Landsize          166.00000     404.00000  6.410000e+02  3.700000e+04  \n",
       "BuildingArea       94.00000     126.00000  1.730000e+02  3.112000e+03  \n",
       "CouncilArea         3.00000      15.00000  2.300000e+01  3.200000e+01  \n",
       "Longtitude        144.92548     144.99681  1.450561e+02  1.455264e+02  \n",
       "Regionname          2.00000       5.00000  5.000000e+00  7.000000e+00  \n",
       "Propertycount    4380.00000    6567.00000  1.017500e+04  2.165000e+04  \n",
       "no_year            21.00000      51.00000  8.100000e+01  8.250000e+02  "
      ]
     },
     "execution_count": 20,
     "metadata": {},
     "output_type": "execute_result"
    }
   ],
   "source": [
    "# Remove outlier\n",
    "dataset = dataset[dataset['BuildingArea']!=0]\n",
    "\n",
    "# Confirm removal\n",
    "dataset.describe().transpose()"
   ]
  },
  {
   "cell_type": "markdown",
   "metadata": {},
   "source": [
    "# EXPLORATORY ANALYSIS"
   ]
  },
  {
   "cell_type": "code",
   "execution_count": 21,
   "metadata": {},
   "outputs": [
    {
     "data": {
      "text/plain": [
       "<matplotlib.axes._subplots.AxesSubplot at 0x1c783358708>"
      ]
     },
     "execution_count": 21,
     "metadata": {},
     "output_type": "execute_result"
    },
    {
     "data": {
      "image/png": "[encoded data removed]",
      "text/plain": [
       "<Figure size 1152x504 with 1 Axes>"
      ]
     },
     "metadata": {
      "needs_background": "light"
     },
     "output_type": "display_data"
    }
   ],
   "source": [
    "plt.figure(figsize=(16,7))\n",
    "sns.distplot(dataset['Price'], kde = False,hist_kws=dict(edgecolor=\"k\"))"
   ]
  },
  {
   "cell_type": "markdown",
   "metadata": {},
   "source": [
    "# BIVARIATE"
   ]
  },
  {
   "cell_type": "code",
   "execution_count": 22,
   "metadata": {},
   "outputs": [
    {
     "data": {
      "image/png": "[encoded data removed]",
      "text/plain": [
       "<Figure size 1080x1080 with 4 Axes>"
      ]
     },
     "metadata": {},
     "output_type": "display_data"
    }
   ],
   "source": [
    "# Suplots of categorical features v price\n",
    "sns.set_style('darkgrid')\n",
    "f, axes = plt.subplots(2,2, figsize = (15,15))\n",
    "\n",
    "# Plot [0,0]\n",
    "sns.boxplot(data = dataset, x = 'Type', y = 'Price', ax = axes[0,0])\n",
    "axes[0,0].set_xlabel('Type')\n",
    "axes[0,0].set_ylabel('Price')\n",
    "axes[0,0].set_title('Type v Price')\n",
    "\n",
    "# Plot [0,1]\n",
    "sns.boxplot(x = 'Method', y = 'Price', data = dataset, ax = axes[0,1])\n",
    "axes[0,1].set_xlabel('Method')\n",
    "#axes[0,1].set_ylabel('Price')\n",
    "axes[0,1].set_title('Method v Price')\n",
    "\n",
    "# Plot [1,0]\n",
    "sns.boxplot(x = 'Regionname', y = 'Price', data = dataset, ax = axes[1,0])\n",
    "axes[1,0].set_xlabel('Regionname')\n",
    "#axes[1,0].set_ylabel('Price')\n",
    "axes[1,0].set_title('Region Name v Price')\n",
    "\n",
    "# Plot [1,1]\n",
    "sns.boxplot(x = 'Historic', y = 'Price', data = dataset, ax = axes[1,1])\n",
    "axes[1,1].set_xlabel('Historic')\n",
    "axes[1,1].set_ylabel('Price')\n",
    "axes[1,1].set_title('Historic v Price')\n",
    "\n",
    "plt.show()"
   ]
  },
  {
   "cell_type": "markdown",
   "metadata": {},
   "source": [
    "# Numeric Features"
   ]
  },
  {
   "cell_type": "code",
   "execution_count": 23,
   "metadata": {},
   "outputs": [
    {
     "data": {
      "text/plain": [
       "Index(['Rooms', 'Type', 'Price', 'Method', 'SellerG', 'Distance', 'Postcode',\n",
       "       'Bathroom', 'Car', 'Landsize', 'BuildingArea', 'CouncilArea',\n",
       "       'Longtitude', 'Regionname', 'Propertycount', 'no_year'],\n",
       "      dtype='object')"
      ]
     },
     "execution_count": 23,
     "metadata": {},
     "output_type": "execute_result"
    }
   ],
   "source": [
    "# Identify numeric features\n",
    "dataset.select_dtypes(['float64','int64']).columns"
   ]
  },
  {
   "cell_type": "code",
   "execution_count": 24,
   "metadata": {},
   "outputs": [
    {
     "ename": "ValueError",
     "evalue": "x and y must be the same size",
     "output_type": "error",
     "traceback": [
      "\u001b[1;31m---------------------------------------------------------------------------\u001b[0m",
      "\u001b[1;31mValueError\u001b[0m                                Traceback (most recent call last)",
      "\u001b[1;32m<ipython-input-24-f7d5b9ede8d1>\u001b[0m in \u001b[0;36m<module>\u001b[1;34m\u001b[0m\n\u001b[0;32m     40\u001b[0m \u001b[1;33m\u001b[0m\u001b[0m\n\u001b[0;32m     41\u001b[0m \u001b[1;31m# Plot [3,0]\u001b[0m\u001b[1;33m\u001b[0m\u001b[1;33m\u001b[0m\u001b[1;33m\u001b[0m\u001b[0m\n\u001b[1;32m---> 42\u001b[1;33m \u001b[0maxes\u001b[0m\u001b[1;33m[\u001b[0m\u001b[1;36m3\u001b[0m\u001b[1;33m,\u001b[0m\u001b[1;36m0\u001b[0m\u001b[1;33m]\u001b[0m\u001b[1;33m.\u001b[0m\u001b[0mscatter\u001b[0m\u001b[1;33m(\u001b[0m\u001b[0mx\u001b[0m \u001b[1;33m=\u001b[0m \u001b[1;34m'Age'\u001b[0m\u001b[1;33m,\u001b[0m \u001b[0my\u001b[0m \u001b[1;33m=\u001b[0m \u001b[1;34m'Price'\u001b[0m\u001b[1;33m,\u001b[0m \u001b[0mdata\u001b[0m \u001b[1;33m=\u001b[0m \u001b[0mdataset\u001b[0m\u001b[1;33m,\u001b[0m \u001b[0medgecolor\u001b[0m \u001b[1;33m=\u001b[0m \u001b[1;34m'b'\u001b[0m\u001b[1;33m)\u001b[0m\u001b[1;33m\u001b[0m\u001b[1;33m\u001b[0m\u001b[0m\n\u001b[0m\u001b[0;32m     43\u001b[0m \u001b[0maxes\u001b[0m\u001b[1;33m[\u001b[0m\u001b[1;36m3\u001b[0m\u001b[1;33m,\u001b[0m\u001b[1;36m0\u001b[0m\u001b[1;33m]\u001b[0m\u001b[1;33m.\u001b[0m\u001b[0mset_xlabel\u001b[0m\u001b[1;33m(\u001b[0m\u001b[1;34m'Age'\u001b[0m\u001b[1;33m)\u001b[0m\u001b[1;33m\u001b[0m\u001b[1;33m\u001b[0m\u001b[0m\n\u001b[0;32m     44\u001b[0m \u001b[0maxes\u001b[0m\u001b[1;33m[\u001b[0m\u001b[1;36m3\u001b[0m\u001b[1;33m,\u001b[0m\u001b[1;36m0\u001b[0m\u001b[1;33m]\u001b[0m\u001b[1;33m.\u001b[0m\u001b[0mset_ylabel\u001b[0m\u001b[1;33m(\u001b[0m\u001b[1;34m'Price'\u001b[0m\u001b[1;33m)\u001b[0m\u001b[1;33m\u001b[0m\u001b[1;33m\u001b[0m\u001b[0m\n",
      "\u001b[1;32m~\\anaconda3\\lib\\site-packages\\matplotlib\\__init__.py\u001b[0m in \u001b[0;36minner\u001b[1;34m(ax, data, *args, **kwargs)\u001b[0m\n\u001b[0;32m   1635\u001b[0m                 \u001b[0mbound\u001b[0m\u001b[1;33m.\u001b[0m\u001b[0marguments\u001b[0m\u001b[1;33m.\u001b[0m\u001b[0msetdefault\u001b[0m\u001b[1;33m(\u001b[0m\u001b[0mvarkwargs_name\u001b[0m\u001b[1;33m,\u001b[0m \u001b[1;33m{\u001b[0m\u001b[1;33m}\u001b[0m\u001b[1;33m)\u001b[0m\u001b[1;33m[\u001b[0m\u001b[1;34m\"label\"\u001b[0m\u001b[1;33m]\u001b[0m \u001b[1;33m=\u001b[0m \u001b[0mlabel\u001b[0m\u001b[1;33m\u001b[0m\u001b[1;33m\u001b[0m\u001b[0m\n\u001b[0;32m   1636\u001b[0m \u001b[1;33m\u001b[0m\u001b[0m\n\u001b[1;32m-> 1637\u001b[1;33m         \u001b[1;32mreturn\u001b[0m \u001b[0mfunc\u001b[0m\u001b[1;33m(\u001b[0m\u001b[1;33m*\u001b[0m\u001b[0mbound\u001b[0m\u001b[1;33m.\u001b[0m\u001b[0margs\u001b[0m\u001b[1;33m,\u001b[0m \u001b[1;33m**\u001b[0m\u001b[0mbound\u001b[0m\u001b[1;33m.\u001b[0m\u001b[0mkwargs\u001b[0m\u001b[1;33m)\u001b[0m\u001b[1;33m\u001b[0m\u001b[1;33m\u001b[0m\u001b[0m\n\u001b[0m\u001b[0;32m   1638\u001b[0m \u001b[1;33m\u001b[0m\u001b[0m\n\u001b[0;32m   1639\u001b[0m     \u001b[0minner\u001b[0m\u001b[1;33m.\u001b[0m\u001b[0m__doc__\u001b[0m \u001b[1;33m=\u001b[0m \u001b[0m_add_data_doc\u001b[0m\u001b[1;33m(\u001b[0m\u001b[0minner\u001b[0m\u001b[1;33m.\u001b[0m\u001b[0m__doc__\u001b[0m\u001b[1;33m,\u001b[0m \u001b[0mreplace_names\u001b[0m\u001b[1;33m)\u001b[0m\u001b[1;33m\u001b[0m\u001b[1;33m\u001b[0m\u001b[0m\n",
      "\u001b[1;32m~\\anaconda3\\lib\\site-packages\\matplotlib\\axes\\_axes.py\u001b[0m in \u001b[0;36mscatter\u001b[1;34m(self, x, y, s, c, marker, cmap, norm, vmin, vmax, alpha, linewidths, verts, edgecolors, plotnonfinite, **kwargs)\u001b[0m\n\u001b[0;32m   4441\u001b[0m         \u001b[0my\u001b[0m \u001b[1;33m=\u001b[0m \u001b[0mnp\u001b[0m\u001b[1;33m.\u001b[0m\u001b[0mma\u001b[0m\u001b[1;33m.\u001b[0m\u001b[0mravel\u001b[0m\u001b[1;33m(\u001b[0m\u001b[0my\u001b[0m\u001b[1;33m)\u001b[0m\u001b[1;33m\u001b[0m\u001b[1;33m\u001b[0m\u001b[0m\n\u001b[0;32m   4442\u001b[0m         \u001b[1;32mif\u001b[0m \u001b[0mx\u001b[0m\u001b[1;33m.\u001b[0m\u001b[0msize\u001b[0m \u001b[1;33m!=\u001b[0m \u001b[0my\u001b[0m\u001b[1;33m.\u001b[0m\u001b[0msize\u001b[0m\u001b[1;33m:\u001b[0m\u001b[1;33m\u001b[0m\u001b[1;33m\u001b[0m\u001b[0m\n\u001b[1;32m-> 4443\u001b[1;33m             \u001b[1;32mraise\u001b[0m \u001b[0mValueError\u001b[0m\u001b[1;33m(\u001b[0m\u001b[1;34m\"x and y must be the same size\"\u001b[0m\u001b[1;33m)\u001b[0m\u001b[1;33m\u001b[0m\u001b[1;33m\u001b[0m\u001b[0m\n\u001b[0m\u001b[0;32m   4444\u001b[0m \u001b[1;33m\u001b[0m\u001b[0m\n\u001b[0;32m   4445\u001b[0m         \u001b[1;32mif\u001b[0m \u001b[0ms\u001b[0m \u001b[1;32mis\u001b[0m \u001b[1;32mNone\u001b[0m\u001b[1;33m:\u001b[0m\u001b[1;33m\u001b[0m\u001b[1;33m\u001b[0m\u001b[0m\n",
      "\u001b[1;31mValueError\u001b[0m: x and y must be the same size"
     ]
    },
    {
     "data": {
      "image/png": "[encoded data removed]",
      "text/plain": [
       "<Figure size 1440x2160 with 8 Axes>"
      ]
     },
     "metadata": {},
     "output_type": "display_data"
    }
   ],
   "source": [
    "# Suplots of numeric features v price\n",
    "sns.set_style('darkgrid')\n",
    "f, axes = plt.subplots(4,2, figsize = (20,30))\n",
    "\n",
    "# Plot [0,0]\n",
    "axes[0,0].scatter(x = 'Rooms', y = 'Price', data = dataset, edgecolor = 'b')\n",
    "axes[0,0].set_xlabel('Rooms')\n",
    "axes[0,0].set_ylabel('Price')\n",
    "axes[0,0].set_title('Rooms v Price')\n",
    "\n",
    "# Plot [0,1]\n",
    "axes[0,1].scatter(x = 'Distance', y = 'Price', data = dataset, edgecolor = 'b')\n",
    "axes[0,1].set_xlabel('Distance')\n",
    "# axes[0,1].set_ylabel('Price')\n",
    "axes[0,1].set_title('Distance v Price')\n",
    "\n",
    "# Plot [1,0]\n",
    "axes[1,0].scatter(x = 'Bathroom', y = 'Price', data = dataset, edgecolor = 'b')\n",
    "axes[1,0].set_xlabel('Bathroom')\n",
    "axes[1,0].set_ylabel('Price')\n",
    "axes[1,0].set_title('Bathroom v Price')\n",
    "\n",
    "# Plot [1,1]\n",
    "axes[1,1].scatter(x = 'Car', y = 'Price', data = dataset, edgecolor = 'b')\n",
    "axes[1,0].set_xlabel('Car')\n",
    "axes[1,1].set_ylabel('Price')\n",
    "axes[1,1].set_title('Car v Price')\n",
    "\n",
    "# Plot [2,0]\n",
    "axes[2,0].scatter(x = 'Landsize', y = 'Price', data = dataset, edgecolor = 'b')\n",
    "axes[2,0].set_xlabel('Landsize')\n",
    "axes[2,0].set_ylabel('Price')\n",
    "axes[2,0].set_title('Landsize v  Price')\n",
    "\n",
    "# Plot [2,1]\n",
    "axes[2,1].scatter(x = 'BuildingArea', y = 'Price', data = dataset, edgecolor = 'b')\n",
    "axes[2,1].set_xlabel('BuildingArea')\n",
    "axes[2,1].set_ylabel('BuildingArea')\n",
    "axes[2,1].set_title('BuildingArea v Price')\n",
    "\n",
    "# Plot [3,0]\n",
    "axes[3,0].scatter(x = 'Age', y = 'Price', data = dataset, edgecolor = 'b')\n",
    "axes[3,0].set_xlabel('Age')\n",
    "axes[3,0].set_ylabel('Price')\n",
    "axes[3,0].set_ylabel('Age v Price')\n",
    "\n",
    "# Plot [3,1]\n",
    "axes[3,1].scatter(x = 'Propertycount', y = 'Price', data = dataset, edgecolor = 'b')\n",
    "axes[3,1].set_xlabel('Propertycount')\n",
    "#axes[3,1].set_ylabel('Price')\n",
    "axes[3,1].set_title('Property Count v Price')\n",
    "plt.show()"
   ]
  },
  {
   "cell_type": "markdown",
   "metadata": {},
   "source": [
    "# CORRELATION"
   ]
  },
  {
   "cell_type": "code",
   "execution_count": 25,
   "metadata": {},
   "outputs": [
    {
     "data": {
      "text/plain": [
       "Text(0.5, 1, 'Variable Correlation')"
      ]
     },
     "execution_count": 25,
     "metadata": {},
     "output_type": "execute_result"
    },
    {
     "data": {
      "image/png": "[encoded data removed]",
      "text/plain": [
       "<Figure size 720x432 with 2 Axes>"
      ]
     },
     "metadata": {},
     "output_type": "display_data"
    }
   ],
   "source": [
    "plt.figure(figsize=(10,6))\n",
    "sns.heatmap(dataset.corr(),cmap = 'coolwarm',linewidth = 1,annot= True, annot_kws={\"size\": 9})\n",
    "plt.title('Variable Correlation')"
   ]
  },
  {
   "cell_type": "markdown",
   "metadata": {},
   "source": [
    "# LINEAR REGRESSION"
   ]
  },
  {
   "cell_type": "code",
   "execution_count": 26,
   "metadata": {},
   "outputs": [
    {
     "data": {
      "text/plain": [
       "Index(['Rooms', 'Type', 'Price', 'Method', 'SellerG', 'Distance', 'Postcode',\n",
       "       'Bathroom', 'Car', 'Landsize', 'BuildingArea', 'CouncilArea',\n",
       "       'Longtitude', 'Regionname', 'Propertycount', 'no_year'],\n",
       "      dtype='object')"
      ]
     },
     "execution_count": 26,
     "metadata": {},
     "output_type": "execute_result"
    }
   ],
   "source": [
    "# Identify numeric features\n",
    "dataset.select_dtypes(['float64','int64']).columns"
   ]
  },
  {
   "cell_type": "code",
   "execution_count": 27,
   "metadata": {},
   "outputs": [],
   "source": [
    "# Split\n",
    "# Create features variable \n",
    "X =dataset[['Rooms', 'Distance', 'Bathroom', 'Car', 'Landsize', \n",
    "            'BuildingArea', 'Propertycount','no_year']]\n",
    "\n",
    "# Create target variable\n",
    "y = dataset['Price']\n",
    "\n",
    "# Train, test, split\n",
    "from sklearn.model_selection import train_test_split\n",
    "X_train, X_test, y_train, y_test = train_test_split(X,y, test_size = .20, random_state= 0)"
   ]
  },
  {
   "cell_type": "code",
   "execution_count": 28,
   "metadata": {},
   "outputs": [
    {
     "data": {
      "text/plain": [
       "LinearRegression()"
      ]
     },
     "execution_count": 28,
     "metadata": {},
     "output_type": "execute_result"
    }
   ],
   "source": [
    "# Fit\n",
    "# Import model\n",
    "from sklearn.linear_model import LinearRegression\n",
    "\n",
    "# Create linear regression object\n",
    "regressor = LinearRegression()\n",
    "\n",
    "# Fit model to training data\n",
    "regressor.fit(X_train,y_train)"
   ]
  },
  {
   "cell_type": "code",
   "execution_count": 29,
   "metadata": {},
   "outputs": [],
   "source": [
    "# Predict\n",
    "# Predicting test set results\n",
    "y_pred = regressor.predict(X_test)"
   ]
  },
  {
   "cell_type": "markdown",
   "metadata": {},
   "source": [
    "# Regression Evaluation Metrics"
   ]
  },
  {
   "cell_type": "code",
   "execution_count": 30,
   "metadata": {},
   "outputs": [
    {
     "name": "stdout",
     "output_type": "stream",
     "text": [
      "MAE: 298780.40976717573\n",
      "MSE: 230165506440.2967\n",
      "RMSE: 479755.6736926586\n"
     ]
    }
   ],
   "source": [
    "# Score It\n",
    "from sklearn import metrics\n",
    "print('MAE:',metrics.mean_absolute_error(y_test,y_pred))\n",
    "print('MSE:',metrics.mean_squared_error(y_test,y_pred))\n",
    "print('RMSE:',np.sqrt(metrics.mean_squared_error(y_test,y_pred)))"
   ]
  },
  {
   "cell_type": "code",
   "execution_count": 31,
   "metadata": {},
   "outputs": [
    {
     "name": "stdout",
     "output_type": "stream",
     "text": [
      "R^2 = 0.4788527429224123\n"
     ]
    }
   ],
   "source": [
    "# Calculated R Squared\n",
    "print('R^2 =',metrics.explained_variance_score(y_test,y_pred))"
   ]
  },
  {
   "cell_type": "markdown",
   "metadata": {},
   "source": [
    "# Analyze the Residuals"
   ]
  },
  {
   "cell_type": "code",
   "execution_count": 32,
   "metadata": {},
   "outputs": [
    {
     "data": {
      "text/plain": [
       "<matplotlib.collections.PathCollection at 0x1c784445448>"
      ]
     },
     "execution_count": 32,
     "metadata": {},
     "output_type": "execute_result"
    },
    {
     "data": {
      "image/png": "[encoded data removed]",
      "text/plain": [
       "<Figure size 432x288 with 1 Axes>"
      ]
     },
     "metadata": {},
     "output_type": "display_data"
    }
   ],
   "source": [
    "# Actual v predictions scatter\n",
    "plt.scatter(y_test, y_pred)"
   ]
  },
  {
   "cell_type": "code",
   "execution_count": 33,
   "metadata": {},
   "outputs": [
    {
     "data": {
      "text/plain": [
       "<matplotlib.axes._subplots.AxesSubplot at 0x1c784162988>"
      ]
     },
     "execution_count": 33,
     "metadata": {},
     "output_type": "execute_result"
    },
    {
     "data": {
      "image/png": "[encoded data removed]",
      "text/plain": [
       "<Figure size 432x288 with 1 Axes>"
      ]
     },
     "metadata": {},
     "output_type": "display_data"
    }
   ],
   "source": [
    "# Histogram of the distribution of residuals\n",
    "sns.distplot((y_test - y_pred))"
   ]
  },
  {
   "cell_type": "markdown",
   "metadata": {},
   "source": [
    "# TRY WITH LABEL ENCODING"
   ]
  },
  {
   "cell_type": "code",
   "execution_count": 34,
   "metadata": {},
   "outputs": [],
   "source": [
    "from sklearn.preprocessing import LabelEncoder"
   ]
  },
  {
   "cell_type": "code",
   "execution_count": 35,
   "metadata": {},
   "outputs": [],
   "source": [
    "for col in dataset :\n",
    "    le=LabelEncoder()\n",
    "    dataset[col]=le.fit_transform(dataset[col])"
   ]
  },
  {
   "cell_type": "code",
   "execution_count": 36,
   "metadata": {},
   "outputs": [
    {
     "data": {
      "text/html": [
       "<div>\n",
       "<style scoped>\n",
       "    .dataframe tbody tr th:only-of-type {\n",
       "        vertical-align: middle;\n",
       "    }\n",
       "\n",
       "    .dataframe tbody tr th {\n",
       "        vertical-align: top;\n",
       "    }\n",
       "\n",
       "    .dataframe thead th {\n",
       "        text-align: right;\n",
       "    }\n",
       "</style>\n",
       "<table border=\"1\" class=\"dataframe\">\n",
       "  <thead>\n",
       "    <tr style=\"text-align: right;\">\n",
       "      <th></th>\n",
       "      <th>Rooms</th>\n",
       "      <th>Type</th>\n",
       "      <th>Price</th>\n",
       "      <th>Method</th>\n",
       "      <th>SellerG</th>\n",
       "      <th>Distance</th>\n",
       "      <th>Postcode</th>\n",
       "      <th>Bathroom</th>\n",
       "      <th>Car</th>\n",
       "      <th>Landsize</th>\n",
       "      <th>BuildingArea</th>\n",
       "      <th>CouncilArea</th>\n",
       "      <th>Longtitude</th>\n",
       "      <th>Regionname</th>\n",
       "      <th>Propertycount</th>\n",
       "      <th>no_year</th>\n",
       "      <th>Historic</th>\n",
       "    </tr>\n",
       "  </thead>\n",
       "  <tbody>\n",
       "    <tr>\n",
       "      <th>0</th>\n",
       "      <td>1</td>\n",
       "      <td>0</td>\n",
       "      <td>869</td>\n",
       "      <td>1</td>\n",
       "      <td>18</td>\n",
       "      <td>12</td>\n",
       "      <td>52</td>\n",
       "      <td>0</td>\n",
       "      <td>0</td>\n",
       "      <td>111</td>\n",
       "      <td>84</td>\n",
       "      <td>30</td>\n",
       "      <td>2078</td>\n",
       "      <td>2</td>\n",
       "      <td>144</td>\n",
       "      <td>112</td>\n",
       "      <td>1</td>\n",
       "    </tr>\n",
       "    <tr>\n",
       "      <th>1</th>\n",
       "      <td>2</td>\n",
       "      <td>0</td>\n",
       "      <td>1163</td>\n",
       "      <td>3</td>\n",
       "      <td>18</td>\n",
       "      <td>12</td>\n",
       "      <td>52</td>\n",
       "      <td>1</td>\n",
       "      <td>0</td>\n",
       "      <td>89</td>\n",
       "      <td>223</td>\n",
       "      <td>30</td>\n",
       "      <td>2093</td>\n",
       "      <td>2</td>\n",
       "      <td>144</td>\n",
       "      <td>112</td>\n",
       "      <td>1</td>\n",
       "    </tr>\n",
       "    <tr>\n",
       "      <th>2</th>\n",
       "      <td>3</td>\n",
       "      <td>0</td>\n",
       "      <td>1224</td>\n",
       "      <td>4</td>\n",
       "      <td>120</td>\n",
       "      <td>12</td>\n",
       "      <td>52</td>\n",
       "      <td>0</td>\n",
       "      <td>2</td>\n",
       "      <td>75</td>\n",
       "      <td>211</td>\n",
       "      <td>30</td>\n",
       "      <td>2090</td>\n",
       "      <td>2</td>\n",
       "      <td>144</td>\n",
       "      <td>4</td>\n",
       "      <td>0</td>\n",
       "    </tr>\n",
       "    <tr>\n",
       "      <th>3</th>\n",
       "      <td>2</td>\n",
       "      <td>0</td>\n",
       "      <td>1345</td>\n",
       "      <td>1</td>\n",
       "      <td>120</td>\n",
       "      <td>12</td>\n",
       "      <td>52</td>\n",
       "      <td>1</td>\n",
       "      <td>0</td>\n",
       "      <td>199</td>\n",
       "      <td>312</td>\n",
       "      <td>30</td>\n",
       "      <td>2177</td>\n",
       "      <td>2</td>\n",
       "      <td>144</td>\n",
       "      <td>103</td>\n",
       "      <td>1</td>\n",
       "    </tr>\n",
       "    <tr>\n",
       "      <th>4</th>\n",
       "      <td>1</td>\n",
       "      <td>0</td>\n",
       "      <td>1244</td>\n",
       "      <td>1</td>\n",
       "      <td>120</td>\n",
       "      <td>12</td>\n",
       "      <td>52</td>\n",
       "      <td>0</td>\n",
       "      <td>2</td>\n",
       "      <td>210</td>\n",
       "      <td>142</td>\n",
       "      <td>30</td>\n",
       "      <td>2108</td>\n",
       "      <td>2</td>\n",
       "      <td>144</td>\n",
       "      <td>118</td>\n",
       "      <td>1</td>\n",
       "    </tr>\n",
       "  </tbody>\n",
       "</table>\n",
       "</div>"
      ],
      "text/plain": [
       "   Rooms  Type  Price  Method  SellerG  Distance  Postcode  Bathroom  Car  \\\n",
       "0      1     0    869       1       18        12        52         0    0   \n",
       "1      2     0   1163       3       18        12        52         1    0   \n",
       "2      3     0   1224       4      120        12        52         0    2   \n",
       "3      2     0   1345       1      120        12        52         1    0   \n",
       "4      1     0   1244       1      120        12        52         0    2   \n",
       "\n",
       "   Landsize  BuildingArea  CouncilArea  Longtitude  Regionname  Propertycount  \\\n",
       "0       111            84           30        2078           2            144   \n",
       "1        89           223           30        2093           2            144   \n",
       "2        75           211           30        2090           2            144   \n",
       "3       199           312           30        2177           2            144   \n",
       "4       210           142           30        2108           2            144   \n",
       "\n",
       "   no_year  Historic  \n",
       "0      112         1  \n",
       "1      112         1  \n",
       "2        4         0  \n",
       "3      103         1  \n",
       "4      118         1  "
      ]
     },
     "execution_count": 36,
     "metadata": {},
     "output_type": "execute_result"
    }
   ],
   "source": [
    "dataset.head()"
   ]
  },
  {
   "cell_type": "code",
   "execution_count": 37,
   "metadata": {},
   "outputs": [
    {
     "name": "stdout",
     "output_type": "stream",
     "text": [
      "<class 'pandas.core.frame.DataFrame'>\n",
      "Int64Index: 6813 entries, 0 to 6829\n",
      "Data columns (total 17 columns):\n",
      " #   Column         Non-Null Count  Dtype\n",
      "---  ------         --------------  -----\n",
      " 0   Rooms          6813 non-null   int64\n",
      " 1   Type           6813 non-null   int64\n",
      " 2   Price          6813 non-null   int64\n",
      " 3   Method         6813 non-null   int64\n",
      " 4   SellerG        6813 non-null   int64\n",
      " 5   Distance       6813 non-null   int64\n",
      " 6   Postcode       6813 non-null   int64\n",
      " 7   Bathroom       6813 non-null   int64\n",
      " 8   Car            6813 non-null   int64\n",
      " 9   Landsize       6813 non-null   int64\n",
      " 10  BuildingArea   6813 non-null   int64\n",
      " 11  CouncilArea    6813 non-null   int64\n",
      " 12  Longtitude     6813 non-null   int64\n",
      " 13  Regionname     6813 non-null   int64\n",
      " 14  Propertycount  6813 non-null   int64\n",
      " 15  no_year        6813 non-null   int64\n",
      " 16  Historic       6813 non-null   int32\n",
      "dtypes: int32(1), int64(16)\n",
      "memory usage: 1.2 MB\n"
     ]
    }
   ],
   "source": [
    "dataset.info()"
   ]
  },
  {
   "cell_type": "code",
   "execution_count": 38,
   "metadata": {},
   "outputs": [],
   "source": [
    "x=dataset[['Rooms', 'Distance', 'Bathroom', 'Car', 'Landsize', \n",
    "            'BuildingArea', 'Propertycount','no_year']] #excluding price here x=independent variable\n",
    "y = dataset['Price']  #dependent variable means target variable"
   ]
  },
  {
   "cell_type": "code",
   "execution_count": 39,
   "metadata": {},
   "outputs": [],
   "source": [
    "#Split data into traning(70%) and testing(30%)\n",
    "x_train,x_test,y_train,y_test=train_test_split(x,y,test_size=0.3,random_state=1)"
   ]
  },
  {
   "cell_type": "code",
   "execution_count": 40,
   "metadata": {},
   "outputs": [],
   "source": [
    "lin=LinearRegression()"
   ]
  },
  {
   "cell_type": "code",
   "execution_count": 41,
   "metadata": {},
   "outputs": [
    {
     "data": {
      "text/plain": [
       "LinearRegression()"
      ]
     },
     "execution_count": 41,
     "metadata": {},
     "output_type": "execute_result"
    }
   ],
   "source": [
    "lin.fit(x_train,y_train)"
   ]
  },
  {
   "cell_type": "code",
   "execution_count": 42,
   "metadata": {},
   "outputs": [
    {
     "data": {
      "text/plain": [
       "0.6507746820803799"
      ]
     },
     "execution_count": 42,
     "metadata": {},
     "output_type": "execute_result"
    }
   ],
   "source": [
    "#Check score of Train\n",
    "lin.score(x_train,y_train)"
   ]
  },
  {
   "cell_type": "code",
   "execution_count": 43,
   "metadata": {},
   "outputs": [],
   "source": [
    "# Predict\n",
    "# Predicting test set results\n",
    "y_pred = lin.predict(x_test)"
   ]
  },
  {
   "cell_type": "code",
   "execution_count": 44,
   "metadata": {},
   "outputs": [
    {
     "data": {
      "text/plain": [
       "0.6601267084558052"
      ]
     },
     "execution_count": 44,
     "metadata": {},
     "output_type": "execute_result"
    }
   ],
   "source": [
    "#Check score of test\n",
    "lin.score(x_test,y_test)"
   ]
  },
  {
   "cell_type": "code",
   "execution_count": 45,
   "metadata": {},
   "outputs": [
    {
     "name": "stdout",
     "output_type": "stream",
     "text": [
      "MAE: 198.21683751236614\n",
      "MSE: 59803.438858237656\n",
      "RMSE: 244.5474163802138\n"
     ]
    }
   ],
   "source": [
    "# Score It\n",
    "from sklearn import metrics\n",
    "print('MAE:',metrics.mean_absolute_error(y_test,y_pred))\n",
    "print('MSE:',metrics.mean_squared_error(y_test,y_pred))\n",
    "print('RMSE:',np.sqrt(metrics.mean_squared_error(y_test,y_pred)))"
   ]
  },
  {
   "cell_type": "code",
   "execution_count": 46,
   "metadata": {},
   "outputs": [
    {
     "name": "stdout",
     "output_type": "stream",
     "text": [
      "R^2 = 0.6601391486479831\n"
     ]
    }
   ],
   "source": [
    "# Calculated R Squared\n",
    "print('R^2 =',metrics.explained_variance_score(y_test,y_pred))"
   ]
  },
  {
   "cell_type": "code",
   "execution_count": 47,
   "metadata": {},
   "outputs": [
    {
     "data": {
      "text/plain": [
       "<matplotlib.collections.PathCollection at 0x1c784af5288>"
      ]
     },
     "execution_count": 47,
     "metadata": {},
     "output_type": "execute_result"
    },
    {
     "data": {
      "image/png": "[encoded data removed]",
      "text/plain": [
       "<Figure size 432x288 with 1 Axes>"
      ]
     },
     "metadata": {},
     "output_type": "display_data"
    }
   ],
   "source": [
    "# Actual v predictions scatter\n",
    "plt.scatter(y_test, y_pred)"
   ]
  },
  {
   "cell_type": "code",
   "execution_count": 48,
   "metadata": {},
   "outputs": [
    {
     "data": {
      "text/plain": [
       "<matplotlib.axes._subplots.AxesSubplot at 0x1c783084f88>"
      ]
     },
     "execution_count": 48,
     "metadata": {},
     "output_type": "execute_result"
    },
    {
     "data": {
      "image/png": "[encoded data removed]",
      "text/plain": [
       "<Figure size 432x288 with 1 Axes>"
      ]
     },
     "metadata": {},
     "output_type": "display_data"
    }
   ],
   "source": [
    "# Histogram of the distribution of residuals\n",
    "sns.distplot((y_test - y_pred))"
   ]
  },
  {
   "cell_type": "markdown",
   "metadata": {},
   "source": [
    "# Ridge and Lasso Regularization to avoid overfitting"
   ]
  },
  {
   "cell_type": "code",
   "execution_count": 49,
   "metadata": {},
   "outputs": [],
   "source": [
    "from sklearn.linear_model import Lasso  #lambda*sum(abs(coef))  ==>error term add\n",
    "from sklearn.linear_model import Ridge  #lambda*sum(square(coef))  ==>error term add\n"
   ]
  },
  {
   "cell_type": "code",
   "execution_count": 50,
   "metadata": {},
   "outputs": [
    {
     "data": {
      "text/plain": [
       "array([ 7.15580262e+01, -2.93495678e+00,  8.22231027e+01,  1.68200688e+01,\n",
       "        1.00903355e-01,  1.75298823e+00,  5.01468135e-02,  3.86667469e+00])"
      ]
     },
     "execution_count": 50,
     "metadata": {},
     "output_type": "execute_result"
    }
   ],
   "source": [
    "lin.coef_"
   ]
  },
  {
   "cell_type": "code",
   "execution_count": 51,
   "metadata": {},
   "outputs": [
    {
     "data": {
      "text/plain": [
       "Ridge(alpha=10)"
      ]
     },
     "execution_count": 51,
     "metadata": {},
     "output_type": "execute_result"
    }
   ],
   "source": [
    "#Apply Regularization with Ridge\n",
    "#To create the object of Ridge class and pass the parameter means value of lambda /hyperparameter\n",
    "l2=Ridge(10) #here 10 ->value of lambda select 0.1  to 50\n",
    "l2.fit(x_train,y_train)"
   ]
  },
  {
   "cell_type": "code",
   "execution_count": 52,
   "metadata": {},
   "outputs": [
    {
     "data": {
      "text/plain": [
       "array([ 7.12826892e+01, -2.93475297e+00,  8.16766364e+01,  1.68238643e+01,\n",
       "        1.00977330e-01,  1.75713650e+00,  5.00679866e-02,  3.86534351e+00])"
      ]
     },
     "execution_count": 52,
     "metadata": {},
     "output_type": "execute_result"
    }
   ],
   "source": [
    "#Again check coefficient\n",
    "l2.coef_"
   ]
  },
  {
   "cell_type": "code",
   "execution_count": 53,
   "metadata": {},
   "outputs": [
    {
     "data": {
      "text/plain": [
       "Lasso(alpha=1000)"
      ]
     },
     "execution_count": 53,
     "metadata": {},
     "output_type": "execute_result"
    }
   ],
   "source": [
    "#Apply Regularization with Lasso\n",
    "#To create the object of Lasso class and pass the parameter means value of lambda /hyperparameter\n",
    "l1=Lasso(1000) #here 1000 ->value of lambda\n",
    "l1.fit(x_train,y_train)"
   ]
  },
  {
   "cell_type": "code",
   "execution_count": 54,
   "metadata": {},
   "outputs": [
    {
     "data": {
      "text/plain": [
       "array([ 0.        , -2.19289508,  0.        ,  0.        ,  0.11615752,\n",
       "        2.48724563,  0.        ,  3.06075822])"
      ]
     },
     "execution_count": 54,
     "metadata": {},
     "output_type": "execute_result"
    }
   ],
   "source": [
    "#Again check coefficient\n",
    "l1.coef_"
   ]
  },
  {
   "cell_type": "code",
   "execution_count": 55,
   "metadata": {},
   "outputs": [
    {
     "name": "stdout",
     "output_type": "stream",
     "text": [
      "0.6601267084558048\n",
      "0.6601252862875524\n",
      "0.6601238491567518\n",
      "0.6601223971186679\n",
      "0.6601209302283472\n",
      "0.6601194485406185\n",
      "0.6601179521100947\n",
      "0.6601164409911731\n",
      "0.6601149152380368\n",
      "0.6601133749046559\n",
      "0.6601118200447883\n",
      "0.6601102507119805\n",
      "0.6601086669595688\n",
      "0.6601070688406809\n",
      "0.6601054564082357\n",
      "0.6601038297149455\n",
      "0.6601021888133162\n",
      "0.6601005337556484\n",
      "0.6600988645940387\n",
      "0.6600971813803804\n",
      "0.6600954841663647\n",
      "0.660093773003481\n",
      "0.6600920479430193\n",
      "0.6600903090360695\n",
      "0.6600885563335228\n",
      "0.6600867898860737\n",
      "0.6600850097442196\n",
      "0.6600832159582624\n",
      "0.6600814085783093\n",
      "0.6600795876542735\n",
      "0.6600777532358757\n",
      "0.6600759053726442\n",
      "0.6600740441139163\n",
      "0.6600721695088394\n",
      "0.6600702816063713\n",
      "0.6600683804552815\n",
      "0.660066466104152\n",
      "0.6600645386013778\n",
      "0.6600625979951686\n",
      "0.6600606443335493\n",
      "0.6600586776643598\n",
      "0.6600566980352577\n",
      "0.6600547054937178\n",
      "0.6600527000870338\n",
      "0.6600506818623183\n",
      "0.6600486508665042\n",
      "0.6600466071463453\n",
      "0.6600445507484176\n",
      "0.6600424817191195\n",
      "0.6600404001046727\n"
     ]
    }
   ],
   "source": [
    "for i in range (50): #start=0 and stop=49 and step : by default +1\n",
    "    #create object of ridge class\n",
    "    l2=Ridge(i)#l2=Ridge(0)     #RSS+Lambda*sum(coef)^2 on training time\n",
    "    l2.fit(x_train,y_train)# train model with ridge regularisation\n",
    "    print(l2.score(x_test,y_test))  "
   ]
  },
  {
   "cell_type": "code",
   "execution_count": 56,
   "metadata": {},
   "outputs": [
    {
     "name": "stdout",
     "output_type": "stream",
     "text": [
      "0.6248988364169767\n",
      "0.6245722598558288\n",
      "0.6242094076395364\n",
      "0.623810494153644\n",
      "0.6233755193981521\n",
      "0.6229044833730599\n"
     ]
    }
   ],
   "source": [
    "for i in range(200,500,50): #here start=200 stop=499 and increment by 50\n",
    "    #creare object of Lasso   RSS+Lambda*sum of (abs(coef))\n",
    "    l1=Lasso(i)\n",
    "    l1.fit(x_train,y_train)\n",
    "    print(l1.score(x_test,y_test))"
   ]
  },
  {
   "cell_type": "code",
   "execution_count": 57,
   "metadata": {},
   "outputs": [],
   "source": [
    "#Ridge with lambda=2 score=0.66\n",
    "#Lasso with Lambda=200 score=0.62"
   ]
  },
  {
   "cell_type": "markdown",
   "metadata": {},
   "source": [
    "# CROSS VALIDATION"
   ]
  },
  {
   "cell_type": "code",
   "execution_count": 58,
   "metadata": {},
   "outputs": [],
   "source": [
    "#Cross validation : To compare 2 models\n",
    "from sklearn.model_selection import cross_val_score"
   ]
  },
  {
   "cell_type": "code",
   "execution_count": 59,
   "metadata": {},
   "outputs": [],
   "source": [
    "l2=Ridge(2)#create object of ridge\n",
    "l1=Lasso(200)#create object of lasso"
   ]
  },
  {
   "cell_type": "code",
   "execution_count": 60,
   "metadata": {},
   "outputs": [],
   "source": [
    "#cross validation with ridge regularisation\n",
    "l1_cross=cross_val_score(l1,x,y,cv=4) #cv==>folding means how many fold"
   ]
  },
  {
   "cell_type": "code",
   "execution_count": 61,
   "metadata": {},
   "outputs": [
    {
     "data": {
      "text/plain": [
       "array([0.61584438, 0.63977975, 0.61338155, 0.55807774])"
      ]
     },
     "execution_count": 61,
     "metadata": {},
     "output_type": "execute_result"
    }
   ],
   "source": [
    "#check\n",
    "l1_cross"
   ]
  },
  {
   "cell_type": "code",
   "execution_count": 62,
   "metadata": {},
   "outputs": [
    {
     "data": {
      "text/plain": [
       "0.6067708536596248"
      ]
     },
     "execution_count": 62,
     "metadata": {},
     "output_type": "execute_result"
    }
   ],
   "source": [
    "#Find Average\n",
    "np.mean(l1_cross)"
   ]
  },
  {
   "cell_type": "code",
   "execution_count": 63,
   "metadata": {},
   "outputs": [],
   "source": [
    "#for lasso\n",
    "l2_cross=cross_val_score(l2,x,y,cv=4) #cv==>folding means how many fold"
   ]
  },
  {
   "cell_type": "code",
   "execution_count": 64,
   "metadata": {},
   "outputs": [
    {
     "data": {
      "text/plain": [
       "array([0.64443997, 0.67115085, 0.64614034, 0.59272881])"
      ]
     },
     "execution_count": 64,
     "metadata": {},
     "output_type": "execute_result"
    }
   ],
   "source": [
    "#check\n",
    "l2_cross"
   ]
  },
  {
   "cell_type": "code",
   "execution_count": 65,
   "metadata": {},
   "outputs": [
    {
     "data": {
      "text/plain": [
       "0.6386149951506294"
      ]
     },
     "execution_count": 65,
     "metadata": {},
     "output_type": "execute_result"
    }
   ],
   "source": [
    "#Find Average\n",
    "np.mean(l2_cross)"
   ]
  },
  {
   "cell_type": "markdown",
   "metadata": {},
   "source": [
    "# WITH SCALING"
   ]
  },
  {
   "cell_type": "code",
   "execution_count": 66,
   "metadata": {},
   "outputs": [
    {
     "name": "stdout",
     "output_type": "stream",
     "text": [
      "<class 'pandas.core.frame.DataFrame'>\n",
      "Int64Index: 6813 entries, 0 to 6829\n",
      "Data columns (total 17 columns):\n",
      " #   Column         Non-Null Count  Dtype\n",
      "---  ------         --------------  -----\n",
      " 0   Rooms          6813 non-null   int64\n",
      " 1   Type           6813 non-null   int64\n",
      " 2   Price          6813 non-null   int64\n",
      " 3   Method         6813 non-null   int64\n",
      " 4   SellerG        6813 non-null   int64\n",
      " 5   Distance       6813 non-null   int64\n",
      " 6   Postcode       6813 non-null   int64\n",
      " 7   Bathroom       6813 non-null   int64\n",
      " 8   Car            6813 non-null   int64\n",
      " 9   Landsize       6813 non-null   int64\n",
      " 10  BuildingArea   6813 non-null   int64\n",
      " 11  CouncilArea    6813 non-null   int64\n",
      " 12  Longtitude     6813 non-null   int64\n",
      " 13  Regionname     6813 non-null   int64\n",
      " 14  Propertycount  6813 non-null   int64\n",
      " 15  no_year        6813 non-null   int64\n",
      " 16  Historic       6813 non-null   int32\n",
      "dtypes: int32(1), int64(16)\n",
      "memory usage: 1.2 MB\n"
     ]
    }
   ],
   "source": [
    "dataset.info()"
   ]
  },
  {
   "cell_type": "code",
   "execution_count": 67,
   "metadata": {},
   "outputs": [],
   "source": [
    "from sklearn.preprocessing import StandardScaler"
   ]
  },
  {
   "cell_type": "code",
   "execution_count": 68,
   "metadata": {},
   "outputs": [],
   "source": [
    "for col in dataset:\n",
    "    ss=StandardScaler()\n",
    "    dataset[col]=ss.fit_transform(dataset[[col]])"
   ]
  },
  {
   "cell_type": "code",
   "execution_count": 69,
   "metadata": {},
   "outputs": [
    {
     "data": {
      "text/html": [
       "<div>\n",
       "<style scoped>\n",
       "    .dataframe tbody tr th:only-of-type {\n",
       "        vertical-align: middle;\n",
       "    }\n",
       "\n",
       "    .dataframe tbody tr th {\n",
       "        vertical-align: top;\n",
       "    }\n",
       "\n",
       "    .dataframe thead th {\n",
       "        text-align: right;\n",
       "    }\n",
       "</style>\n",
       "<table border=\"1\" class=\"dataframe\">\n",
       "  <thead>\n",
       "    <tr style=\"text-align: right;\">\n",
       "      <th></th>\n",
       "      <th>Rooms</th>\n",
       "      <th>Type</th>\n",
       "      <th>Price</th>\n",
       "      <th>Method</th>\n",
       "      <th>SellerG</th>\n",
       "      <th>Distance</th>\n",
       "      <th>Postcode</th>\n",
       "      <th>Bathroom</th>\n",
       "      <th>Car</th>\n",
       "      <th>Landsize</th>\n",
       "      <th>BuildingArea</th>\n",
       "      <th>CouncilArea</th>\n",
       "      <th>Longtitude</th>\n",
       "      <th>Regionname</th>\n",
       "      <th>Propertycount</th>\n",
       "      <th>no_year</th>\n",
       "      <th>Historic</th>\n",
       "    </tr>\n",
       "  </thead>\n",
       "  <tbody>\n",
       "    <tr>\n",
       "      <th>0</th>\n",
       "      <td>-1.006707</td>\n",
       "      <td>-0.649732</td>\n",
       "      <td>0.280651</td>\n",
       "      <td>-0.383775</td>\n",
       "      <td>-1.380493</td>\n",
       "      <td>-1.527678</td>\n",
       "      <td>-0.450953</td>\n",
       "      <td>-0.830811</td>\n",
       "      <td>-1.699828</td>\n",
       "      <td>-0.926925</td>\n",
       "      <td>-1.018701</td>\n",
       "      <td>1.594282</td>\n",
       "      <td>-0.052092</td>\n",
       "      <td>-0.891354</td>\n",
       "      <td>-0.741252</td>\n",
       "      <td>1.738222</td>\n",
       "      <td>0.851614</td>\n",
       "    </tr>\n",
       "    <tr>\n",
       "      <th>1</th>\n",
       "      <td>0.023901</td>\n",
       "      <td>-0.649732</td>\n",
       "      <td>0.982915</td>\n",
       "      <td>1.366330</td>\n",
       "      <td>-1.380493</td>\n",
       "      <td>-1.527678</td>\n",
       "      <td>-0.450953</td>\n",
       "      <td>0.568871</td>\n",
       "      <td>-1.699828</td>\n",
       "      <td>-1.003613</td>\n",
       "      <td>0.267221</td>\n",
       "      <td>1.594282</td>\n",
       "      <td>-0.038779</td>\n",
       "      <td>-0.891354</td>\n",
       "      <td>-0.741252</td>\n",
       "      <td>1.738222</td>\n",
       "      <td>0.851614</td>\n",
       "    </tr>\n",
       "    <tr>\n",
       "      <th>2</th>\n",
       "      <td>1.054508</td>\n",
       "      <td>-0.649732</td>\n",
       "      <td>1.128623</td>\n",
       "      <td>2.241383</td>\n",
       "      <td>0.278043</td>\n",
       "      <td>-1.527678</td>\n",
       "      <td>-0.450953</td>\n",
       "      <td>-0.830811</td>\n",
       "      <td>0.416570</td>\n",
       "      <td>-1.052414</td>\n",
       "      <td>0.156207</td>\n",
       "      <td>1.594282</td>\n",
       "      <td>-0.041441</td>\n",
       "      <td>-0.891354</td>\n",
       "      <td>-0.741252</td>\n",
       "      <td>-1.400976</td>\n",
       "      <td>-1.174241</td>\n",
       "    </tr>\n",
       "    <tr>\n",
       "      <th>3</th>\n",
       "      <td>0.023901</td>\n",
       "      <td>-0.649732</td>\n",
       "      <td>1.417650</td>\n",
       "      <td>-0.383775</td>\n",
       "      <td>0.278043</td>\n",
       "      <td>-1.527678</td>\n",
       "      <td>-0.450953</td>\n",
       "      <td>0.568871</td>\n",
       "      <td>-1.699828</td>\n",
       "      <td>-0.620176</td>\n",
       "      <td>1.090582</td>\n",
       "      <td>1.594282</td>\n",
       "      <td>0.035776</td>\n",
       "      <td>-0.891354</td>\n",
       "      <td>-0.741252</td>\n",
       "      <td>1.476622</td>\n",
       "      <td>0.851614</td>\n",
       "    </tr>\n",
       "    <tr>\n",
       "      <th>4</th>\n",
       "      <td>-1.006707</td>\n",
       "      <td>-0.649732</td>\n",
       "      <td>1.176396</td>\n",
       "      <td>-0.383775</td>\n",
       "      <td>0.278043</td>\n",
       "      <td>-1.527678</td>\n",
       "      <td>-0.450953</td>\n",
       "      <td>-0.830811</td>\n",
       "      <td>0.416570</td>\n",
       "      <td>-0.581832</td>\n",
       "      <td>-0.482129</td>\n",
       "      <td>1.594282</td>\n",
       "      <td>-0.025465</td>\n",
       "      <td>-0.891354</td>\n",
       "      <td>-0.741252</td>\n",
       "      <td>1.912622</td>\n",
       "      <td>0.851614</td>\n",
       "    </tr>\n",
       "    <tr>\n",
       "      <th>...</th>\n",
       "      <td>...</td>\n",
       "      <td>...</td>\n",
       "      <td>...</td>\n",
       "      <td>...</td>\n",
       "      <td>...</td>\n",
       "      <td>...</td>\n",
       "      <td>...</td>\n",
       "      <td>...</td>\n",
       "      <td>...</td>\n",
       "      <td>...</td>\n",
       "      <td>...</td>\n",
       "      <td>...</td>\n",
       "      <td>...</td>\n",
       "      <td>...</td>\n",
       "      <td>...</td>\n",
       "      <td>...</td>\n",
       "      <td>...</td>\n",
       "    </tr>\n",
       "    <tr>\n",
       "      <th>6825</th>\n",
       "      <td>-1.006707</td>\n",
       "      <td>-0.649732</td>\n",
       "      <td>-0.760801</td>\n",
       "      <td>-1.258827</td>\n",
       "      <td>0.229263</td>\n",
       "      <td>1.008702</td>\n",
       "      <td>-0.119440</td>\n",
       "      <td>-0.830811</td>\n",
       "      <td>-0.641629</td>\n",
       "      <td>-0.738693</td>\n",
       "      <td>-1.018701</td>\n",
       "      <td>-1.443571</td>\n",
       "      <td>1.066237</td>\n",
       "      <td>-0.891354</td>\n",
       "      <td>-1.766723</td>\n",
       "      <td>-1.168442</td>\n",
       "      <td>-1.174241</td>\n",
       "    </tr>\n",
       "    <tr>\n",
       "      <th>6826</th>\n",
       "      <td>1.054508</td>\n",
       "      <td>-0.649732</td>\n",
       "      <td>-0.803797</td>\n",
       "      <td>-0.383775</td>\n",
       "      <td>1.692678</td>\n",
       "      <td>1.057952</td>\n",
       "      <td>-1.113981</td>\n",
       "      <td>0.568871</td>\n",
       "      <td>-0.641629</td>\n",
       "      <td>0.822941</td>\n",
       "      <td>0.554010</td>\n",
       "      <td>-1.443571</td>\n",
       "      <td>-1.856508</td>\n",
       "      <td>1.096630</td>\n",
       "      <td>1.242225</td>\n",
       "      <td>-0.412710</td>\n",
       "      <td>-1.174241</td>\n",
       "    </tr>\n",
       "    <tr>\n",
       "      <th>6827</th>\n",
       "      <td>0.023901</td>\n",
       "      <td>-0.649732</td>\n",
       "      <td>0.273485</td>\n",
       "      <td>1.366330</td>\n",
       "      <td>1.578856</td>\n",
       "      <td>-0.616551</td>\n",
       "      <td>-1.362617</td>\n",
       "      <td>0.568871</td>\n",
       "      <td>0.416570</td>\n",
       "      <td>-0.313426</td>\n",
       "      <td>0.026689</td>\n",
       "      <td>-1.443571</td>\n",
       "      <td>-1.333733</td>\n",
       "      <td>1.096630</td>\n",
       "      <td>0.135796</td>\n",
       "      <td>-0.848709</td>\n",
       "      <td>-1.174241</td>\n",
       "    </tr>\n",
       "    <tr>\n",
       "      <th>6828</th>\n",
       "      <td>1.054508</td>\n",
       "      <td>-0.649732</td>\n",
       "      <td>1.756838</td>\n",
       "      <td>-1.258827</td>\n",
       "      <td>1.156092</td>\n",
       "      <td>-0.616551</td>\n",
       "      <td>-1.362617</td>\n",
       "      <td>-0.830811</td>\n",
       "      <td>3.591166</td>\n",
       "      <td>1.509641</td>\n",
       "      <td>0.368985</td>\n",
       "      <td>-1.443571</td>\n",
       "      <td>-1.146458</td>\n",
       "      <td>1.096630</td>\n",
       "      <td>0.135796</td>\n",
       "      <td>1.244089</td>\n",
       "      <td>0.851614</td>\n",
       "    </tr>\n",
       "    <tr>\n",
       "      <th>6829</th>\n",
       "      <td>1.054508</td>\n",
       "      <td>-0.649732</td>\n",
       "      <td>0.712997</td>\n",
       "      <td>1.366330</td>\n",
       "      <td>1.416255</td>\n",
       "      <td>-0.739677</td>\n",
       "      <td>-1.404056</td>\n",
       "      <td>-0.830811</td>\n",
       "      <td>-0.641629</td>\n",
       "      <td>-0.212338</td>\n",
       "      <td>-0.389617</td>\n",
       "      <td>-1.443571</td>\n",
       "      <td>-1.257403</td>\n",
       "      <td>1.096630</td>\n",
       "      <td>0.189768</td>\n",
       "      <td>1.244089</td>\n",
       "      <td>0.851614</td>\n",
       "    </tr>\n",
       "  </tbody>\n",
       "</table>\n",
       "<p>6813 rows × 17 columns</p>\n",
       "</div>"
      ],
      "text/plain": [
       "         Rooms      Type     Price    Method   SellerG  Distance  Postcode  \\\n",
       "0    -1.006707 -0.649732  0.280651 -0.383775 -1.380493 -1.527678 -0.450953   \n",
       "1     0.023901 -0.649732  0.982915  1.366330 -1.380493 -1.527678 -0.450953   \n",
       "2     1.054508 -0.649732  1.128623  2.241383  0.278043 -1.527678 -0.450953   \n",
       "3     0.023901 -0.649732  1.417650 -0.383775  0.278043 -1.527678 -0.450953   \n",
       "4    -1.006707 -0.649732  1.176396 -0.383775  0.278043 -1.527678 -0.450953   \n",
       "...        ...       ...       ...       ...       ...       ...       ...   \n",
       "6825 -1.006707 -0.649732 -0.760801 -1.258827  0.229263  1.008702 -0.119440   \n",
       "6826  1.054508 -0.649732 -0.803797 -0.383775  1.692678  1.057952 -1.113981   \n",
       "6827  0.023901 -0.649732  0.273485  1.366330  1.578856 -0.616551 -1.362617   \n",
       "6828  1.054508 -0.649732  1.756838 -1.258827  1.156092 -0.616551 -1.362617   \n",
       "6829  1.054508 -0.649732  0.712997  1.366330  1.416255 -0.739677 -1.404056   \n",
       "\n",
       "      Bathroom       Car  Landsize  BuildingArea  CouncilArea  Longtitude  \\\n",
       "0    -0.830811 -1.699828 -0.926925     -1.018701     1.594282   -0.052092   \n",
       "1     0.568871 -1.699828 -1.003613      0.267221     1.594282   -0.038779   \n",
       "2    -0.830811  0.416570 -1.052414      0.156207     1.594282   -0.041441   \n",
       "3     0.568871 -1.699828 -0.620176      1.090582     1.594282    0.035776   \n",
       "4    -0.830811  0.416570 -0.581832     -0.482129     1.594282   -0.025465   \n",
       "...        ...       ...       ...           ...          ...         ...   \n",
       "6825 -0.830811 -0.641629 -0.738693     -1.018701    -1.443571    1.066237   \n",
       "6826  0.568871 -0.641629  0.822941      0.554010    -1.443571   -1.856508   \n",
       "6827  0.568871  0.416570 -0.313426      0.026689    -1.443571   -1.333733   \n",
       "6828 -0.830811  3.591166  1.509641      0.368985    -1.443571   -1.146458   \n",
       "6829 -0.830811 -0.641629 -0.212338     -0.389617    -1.443571   -1.257403   \n",
       "\n",
       "      Regionname  Propertycount   no_year  Historic  \n",
       "0      -0.891354      -0.741252  1.738222  0.851614  \n",
       "1      -0.891354      -0.741252  1.738222  0.851614  \n",
       "2      -0.891354      -0.741252 -1.400976 -1.174241  \n",
       "3      -0.891354      -0.741252  1.476622  0.851614  \n",
       "4      -0.891354      -0.741252  1.912622  0.851614  \n",
       "...          ...            ...       ...       ...  \n",
       "6825   -0.891354      -1.766723 -1.168442 -1.174241  \n",
       "6826    1.096630       1.242225 -0.412710 -1.174241  \n",
       "6827    1.096630       0.135796 -0.848709 -1.174241  \n",
       "6828    1.096630       0.135796  1.244089  0.851614  \n",
       "6829    1.096630       0.189768  1.244089  0.851614  \n",
       "\n",
       "[6813 rows x 17 columns]"
      ]
     },
     "execution_count": 69,
     "metadata": {},
     "output_type": "execute_result"
    }
   ],
   "source": [
    "dataset"
   ]
  },
  {
   "cell_type": "code",
   "execution_count": 71,
   "metadata": {},
   "outputs": [],
   "source": [
    "x=dataset[['Rooms', 'Distance', 'Bathroom', 'Car', 'Landsize', \n",
    "            'BuildingArea', 'Propertycount','no_year']] #excluding price here x=independent variable\n",
    "y = dataset['Price']  #dependent variable means target variable"
   ]
  },
  {
   "cell_type": "code",
   "execution_count": 72,
   "metadata": {},
   "outputs": [],
   "source": [
    "#Split data into traning(70%) and testing(30%)\n",
    "x_train,x_test,y_train,y_test=train_test_split(x,y,test_size=0.3,random_state=1)"
   ]
  },
  {
   "cell_type": "code",
   "execution_count": 73,
   "metadata": {},
   "outputs": [],
   "source": [
    "lin=LinearRegression()"
   ]
  },
  {
   "cell_type": "code",
   "execution_count": 74,
   "metadata": {},
   "outputs": [
    {
     "data": {
      "text/plain": [
       "LinearRegression()"
      ]
     },
     "execution_count": 74,
     "metadata": {},
     "output_type": "execute_result"
    }
   ],
   "source": [
    "lin.fit(x_train,y_train)"
   ]
  },
  {
   "cell_type": "code",
   "execution_count": 75,
   "metadata": {},
   "outputs": [
    {
     "data": {
      "text/plain": [
       "0.6507746820803799"
      ]
     },
     "execution_count": 75,
     "metadata": {},
     "output_type": "execute_result"
    }
   ],
   "source": [
    "#Check score of Train\n",
    "lin.score(x_train,y_train)"
   ]
  },
  {
   "cell_type": "code",
   "execution_count": 76,
   "metadata": {},
   "outputs": [],
   "source": [
    "# Predict\n",
    "# Predicting test set results\n",
    "y_pred = lin.predict(x_test)"
   ]
  },
  {
   "cell_type": "code",
   "execution_count": 77,
   "metadata": {},
   "outputs": [
    {
     "data": {
      "text/plain": [
       "0.6601267084558047"
      ]
     },
     "execution_count": 77,
     "metadata": {},
     "output_type": "execute_result"
    }
   ],
   "source": [
    "#Check score of test\n",
    "lin.score(x_test,y_test)"
   ]
  },
  {
   "cell_type": "code",
   "execution_count": 78,
   "metadata": {},
   "outputs": [
    {
     "name": "stdout",
     "output_type": "stream",
     "text": [
      "MAE: 0.4734710811614872\n",
      "MSE: 0.34121804350696855\n",
      "RMSE: 0.5841387194040201\n"
     ]
    }
   ],
   "source": [
    "# Score It\n",
    "from sklearn import metrics\n",
    "print('MAE:',metrics.mean_absolute_error(y_test,y_pred))\n",
    "print('MSE:',metrics.mean_squared_error(y_test,y_pred))\n",
    "print('RMSE:',np.sqrt(metrics.mean_squared_error(y_test,y_pred)))"
   ]
  },
  {
   "cell_type": "code",
   "execution_count": 79,
   "metadata": {},
   "outputs": [
    {
     "name": "stdout",
     "output_type": "stream",
     "text": [
      "R^2 = 0.6601391486479824\n"
     ]
    }
   ],
   "source": [
    "# Calculated R Squared\n",
    "print('R^2 =',metrics.explained_variance_score(y_test,y_pred))"
   ]
  },
  {
   "cell_type": "code",
   "execution_count": 80,
   "metadata": {},
   "outputs": [
    {
     "data": {
      "text/plain": [
       "<matplotlib.collections.PathCollection at 0x1c784af5a08>"
      ]
     },
     "execution_count": 80,
     "metadata": {},
     "output_type": "execute_result"
    },
    {
     "data": {
      "image/png": "[encoded data removed]",
      "text/plain": [
       "<Figure size 432x288 with 1 Axes>"
      ]
     },
     "metadata": {},
     "output_type": "display_data"
    }
   ],
   "source": [
    "# Actual v predictions scatter\n",
    "plt.scatter(y_test, y_pred)"
   ]
  },
  {
   "cell_type": "code",
   "execution_count": 81,
   "metadata": {},
   "outputs": [
    {
     "data": {
      "text/plain": [
       "<matplotlib.axes._subplots.AxesSubplot at 0x1c783511fc8>"
      ]
     },
     "execution_count": 81,
     "metadata": {},
     "output_type": "execute_result"
    },
    {
     "data": {
      "image/png": "[encoded data removed]",
      "text/plain": [
       "<Figure size 432x288 with 1 Axes>"
      ]
     },
     "metadata": {},
     "output_type": "display_data"
    }
   ],
   "source": [
    "# Histogram of the distribution of residuals\n",
    "sns.distplot((y_test - y_pred))"
   ]
  },
  {
   "cell_type": "code",
   "execution_count": null,
   "metadata": {},
   "outputs": [],
   "source": []
  }
 ],
 "metadata": {
  "kernelspec": {
   "display_name": "Python 3",
   "language": "python",
   "name": "python3"
  },
  "language_info": {
   "codemirror_mode": {
    "name": "ipython",
    "version": 3
   },
   "file_extension": ".py",
   "mimetype": "text/x-python",
   "name": "python",
   "nbconvert_exporter": "python",
   "pygments_lexer": "ipython3",
   "version": "3.7.6"
  }
 },
 "nbformat": 4,
 "nbformat_minor": 4
}
